{
 "cells": [
  {
   "cell_type": "markdown",
   "metadata": {},
   "source": [
    "# Welcome to the Dark Art of Coding:\n",
    "## Introduction to Python\n",
    "Object Oriented Programming\n",
    "\n",
    "\n",
    "<img src='../images/dark_art_logo.600px.png' width='300' style=\"float:right\">"
   ]
  },
  {
   "cell_type": "markdown",
   "metadata": {},
   "source": [
    "# Objectives\n",
    "---"
   ]
  },
  {
   "cell_type": "markdown",
   "metadata": {},
   "source": [
    "In this session, students should expect to:\n",
    "\n",
    "* Understand what classes and objects are\n",
    "* Understand how to define a class\n",
    "* Understand how to create an object from a class\n",
    "* Understand how to create class attributes and methods\n"
   ]
  },
  {
   "cell_type": "markdown",
   "metadata": {},
   "source": [
    "# First and foremost\n",
    "\n",
    "We're going to be doing a lot of looking at definitions and how things work. \n",
    "\n",
    "If at any point something doesn't make sense or you have a question, PLEASE ask for assistance.\n",
    "\n",
    "The content in this lesson can help you to not only create powerful and well designed programs, but is also fundamental to really understanding how all the other objects in Python work both singly and together.\n"
   ]
  },
  {
   "cell_type": "markdown",
   "metadata": {},
   "source": [
    "# Objects\n",
    "---"
   ]
  },
  {
   "cell_type": "markdown",
   "metadata": {},
   "source": [
    "Python scripts are made up of lots of little parts working together to make a fully functioning program. \n",
    "\n",
    "* These parts are called Python objects\n",
    "* You have been using objects all along"
   ]
  },
  {
   "cell_type": "markdown",
   "metadata": {},
   "source": [
    "## List object\n",
    "\n",
    "Everything that we have used so far has been a Python object. For example:\n",
    "\n",
    "```python\n",
    "In []: list?\n",
    "```\n",
    "\n",
    "OR \n",
    "```python\n",
    ">>> help(list())\n",
    "```\n",
    "\n",
    "brings up the help documentation for the `list object`"
   ]
  },
  {
   "cell_type": "markdown",
   "metadata": {},
   "source": [
    "## Function objects\n",
    "\n",
    "Even functions are considered objects in Python and are generically referred to as `function objects`"
   ]
  },
  {
   "cell_type": "markdown",
   "metadata": {},
   "source": [
    "# Let's go over some definitions\n",
    "---"
   ]
  },
  {
   "cell_type": "markdown",
   "metadata": {},
   "source": [
    "## Object\n",
    "\n",
    "An object is a piece of self-contained code and data. All Python objects have a few common key characteristics:\n",
    "\n",
    "* They hold data (typically accessible via attributes)\n",
    "* They have behaviors (typically accessible via methods)\n",
    "\n",
    "AND\n",
    "\n",
    "* They are created from something called a `class`\n",
    "* A `class` is a lot like a blueprint\n",
    "* Any number of objects can be made from a `class`\n"
   ]
  },
  {
   "cell_type": "markdown",
   "metadata": {},
   "source": [
    "## Class\n",
    "\n",
    "A **class** is a type of template for the Python object. It lets Python know exactly what **attributes** and **methods** any object created from that class should have. It also provides instructions on what to do when creating OR destroying any given object\n"
   ]
  },
  {
   "cell_type": "markdown",
   "metadata": {},
   "source": [
    "## Instance\n",
    "\n",
    "An **instance** of a Python class is a singular Python object created using the template of a class that holds values or data that is unique to that instance. When methods are run they typically only change values inside a singular instance"
   ]
  },
  {
   "cell_type": "markdown",
   "metadata": {},
   "source": [
    "## Attributes\n",
    "\n",
    "Any given object has some attributes associated with it. These are values / data stored within the Python object that are tied to that specific object. You can access and use this data. Often some or all of the data associated with attributes is defined at the time an object is created, but this is not required and often values can be changed when needed."
   ]
  },
  {
   "cell_type": "markdown",
   "metadata": {},
   "source": [
    "## Methods\n",
    "\n",
    "Any given object has methods associated with it. When creating a Python object the class will define the object's methods. These are functions tied to an instance. When you run a method it typically uses the attribute data as well as some data you give it to do one of a couple things:\n",
    "\n",
    "* Change what the data inside the attributes are\n",
    "* Return data from the attribute values\n",
    "* Return data about the attributes of that object"
   ]
  },
  {
   "cell_type": "markdown",
   "metadata": {},
   "source": [
    "# Key notions with Object Oriented Programming\n",
    "\n",
    "* Each object has it's own capabilities and boundaries.\n",
    "* One of the things you can do with object oriented languages like Python is to break up the problem into smaller parts that make it easier to understand.\n",
    "* When you've broken it up like that you can use each object for exactly what it was built to do."
   ]
  },
  {
   "cell_type": "markdown",
   "metadata": {},
   "source": [
    "# Let's make a `class`"
   ]
  },
  {
   "cell_type": "code",
   "execution_count": 19,
   "metadata": {
    "collapsed": true
   },
   "outputs": [],
   "source": [
    "# Creating a sample class\n",
    "#     with one method\n",
    "\n",
    "class Student:\n",
    "    grade = 100\n",
    "    \n",
    "    def party(self):\n",
    "        self.grade -= 10\n",
    "        print('I partied so hard my grade is:', self.grade)"
   ]
  },
  {
   "cell_type": "code",
   "execution_count": 20,
   "metadata": {},
   "outputs": [
    {
     "name": "stdout",
     "output_type": "stream",
     "text": [
      "I partied so hard my grade is: 90\n",
      "I partied so hard my grade is: 80\n"
     ]
    }
   ],
   "source": [
    "# Creating an instance based on our new class\n",
    "\n",
    "aaron = Student()\n",
    "\n",
    "aaron.party()\n",
    "aaron.party()"
   ]
  },
  {
   "cell_type": "code",
   "execution_count": 21,
   "metadata": {},
   "outputs": [
    {
     "name": "stdout",
     "output_type": "stream",
     "text": [
      "I partied so hard my grade is: 90\n",
      "aaron: 80\n",
      "james: 90\n"
     ]
    }
   ],
   "source": [
    "# Creating a second instance of our class\n",
    "\n",
    "james = Student()\n",
    "\n",
    "james.party()\n",
    "\n",
    "# Note the difference in the attribute values\n",
    "\n",
    "print('aaron:', aaron.grade)\n",
    "print('james:', james.grade)"
   ]
  },
  {
   "cell_type": "markdown",
   "metadata": {},
   "source": [
    "# Now let's walk through this class\n",
    "---"
   ]
  },
  {
   "cell_type": "markdown",
   "metadata": {},
   "source": [
    "## Building the class\n",
    "\n",
    "**First** we create a name for our class (don't forget the colon at the end to denote a code block and don't forget that all code blocks are indented!)\n",
    "\n",
    "```python\n",
    "class Student:\n",
    "```\n",
    "\n",
    "**Second** we make an attribute for this class, give it the name grade, and store the value `100`. All objects created with this class will start with a grade value of 100.\n",
    "\n",
    "```python\n",
    "    grade = 100\n",
    "```\n",
    "\n",
    "**Third** we define a function to be used with the class using the same syntax we normally use to make functions. It is customary to call functions that are associated with an object by the name `method`.\n",
    "\n",
    "NOTE: We pass a single argument into the method and we call it `self`. The `self` variable causes Python to associate this method with a specific instance of the object generated by the class.\n",
    "\n",
    "```python\n",
    "    def party(self):\n",
    "```\n",
    "\n",
    "**Fourth** `self.grade` accesses the grade attribute from a specific object generated by the class and we subtract 10 from it\n",
    "\n",
    "```python\n",
    "        self.grade -= 10\n",
    "```\n",
    "\n",
    "**Fifth** lastly, we print out the value of `self.grade` with some flavor text\n",
    "\n",
    "```python\n",
    "        print('I partied so hard my grade is:', self.grade)\n",
    "```"
   ]
  },
  {
   "cell_type": "markdown",
   "metadata": {},
   "source": [
    "## Using the class to make an object\n",
    "\n",
    "**First** we create an instance of the `Student` object\n",
    "\n",
    "```python\n",
    "aaron = Student()\n",
    "```\n",
    "\n",
    "**Second** we use the `.party()` method twice. We know the method subtracts 10 from the grade attribute and prints it out. \n",
    "\n",
    "```python\n",
    "aaron.party()\n",
    "aaron.party()\n",
    "```\n",
    "\n",
    "**Third** we create a new instance of our `Student`. Note that this object will have it's own attributes and methods unique to this instance\n",
    "\n",
    "```python\n",
    "james = Student()\n",
    "```\n",
    "\n",
    "**Fourth** we use our `.party()` method but only once. This will leave our `grade` attribute at 90\n",
    "\n",
    "```python\n",
    "james.party()\n",
    "```\n",
    "\n",
    "**Fifth** we print out the values of our two `grade` attributes showing that they are unique and we can access them separately\n",
    "\n",
    "```python\n",
    "print('aaron:', aaron.grade)\n",
    "print('james:', james.grade)\n",
    "```"
   ]
  },
  {
   "cell_type": "markdown",
   "metadata": {},
   "source": [
    "# Experience Points!\n",
    "---"
   ]
  },
  {
   "cell_type": "markdown",
   "metadata": {},
   "source": [
    "In your **text editor** create a simple script called:\n",
    "\n",
    "`my_class_01.py`\n",
    "\n",
    "Execute your script in the **IPython interpreter** using the command:\n",
    "\n",
    "`run my_class_01.py`\n",
    "\n",
    "Inside your script you should do the following\n",
    "\n",
    "* Create a class called `animal`\n",
    "* Inside the class create an attribute of `fur_color` and assign it an empty string\n",
    "* Define a method for your class that takes in a parameter and assigns that to `fur_color`\n",
    "* Define a second method that prints out `fur_color`"
   ]
  },
  {
   "cell_type": "markdown",
   "metadata": {},
   "source": [
    "When you complete this exercise, please put your green post-it on your monitor. \n",
    "\n",
    "If you want to continue on at your own-pace, please feel free to do so.\n",
    "\n",
    "<img src='../images/green_sticky.300px.png' width='200' style='float:left'>"
   ]
  },
  {
   "cell_type": "markdown",
   "metadata": {},
   "source": [
    "# Helpful functions for object oriented programming\n",
    "---"
   ]
  },
  {
   "cell_type": "markdown",
   "metadata": {},
   "source": [
    "* `type()`: returns what type of Python object you're looking at\n",
    "* `?` OR `help()`: prints helpful information on how to effectively use a Python object\n",
    "* `*.<tab complete>` OR *NEW* `dir()`: returns a list of methods attached to a Python object"
   ]
  },
  {
   "cell_type": "markdown",
   "metadata": {},
   "source": [
    "## Using `dir()`"
   ]
  },
  {
   "cell_type": "markdown",
   "metadata": {},
   "source": [
    "When we run `dir()` on an empty list it will show us what methods can be run on lists"
   ]
  },
  {
   "cell_type": "code",
   "execution_count": null,
   "metadata": {
    "collapsed": true
   },
   "outputs": [],
   "source": [
    "example = ''\n",
    "dir(example)"
   ]
  },
  {
   "cell_type": "markdown",
   "metadata": {},
   "source": [
    "We can see a bunch of the methods that we've talked about before such as `.lower()`, `.split()`, and `.strip()`"
   ]
  },
  {
   "cell_type": "markdown",
   "metadata": {},
   "source": [
    "We can even use `dir()` on the classes we've made."
   ]
  },
  {
   "cell_type": "code",
   "execution_count": null,
   "metadata": {
    "collapsed": true
   },
   "outputs": [],
   "source": [
    "dir(Student)"
   ]
  },
  {
   "cell_type": "markdown",
   "metadata": {},
   "source": [
    "## Notes:\n",
    "\n",
    "* For now we can ignore most of those methods with the double underscores A.K.A. 'dunder methods'\n",
    "* `dunder methods` are used by Python itself and while we will talk about some of them in a moment, for now we will look at the methods and attributes at the bottom of the list...\n",
    "* The methods and attributes at the bottom of the list are intended to be directly accessed by users"
   ]
  },
  {
   "cell_type": "markdown",
   "metadata": {
    "collapsed": true
   },
   "source": [
    "# Object lifecycle\n",
    "---"
   ]
  },
  {
   "cell_type": "markdown",
   "metadata": {},
   "source": [
    "Objects are created, used, and then destroyed. Using a few of those `dunder methods` we can tell Python how to automatically do stuff during each of those events."
   ]
  },
  {
   "cell_type": "markdown",
   "metadata": {},
   "source": [
    "## `.__init__()`\n",
    "\n",
    "We can make a method that runs on object creation. This is normally used to help set up attributes or assign certain things that will end up being unique to a given instance"
   ]
  },
  {
   "cell_type": "markdown",
   "metadata": {},
   "source": [
    "Going back to our `Student class` we made earlier let's add a `.__init__()` method"
   ]
  },
  {
   "cell_type": "code",
   "execution_count": 23,
   "metadata": {
    "collapsed": true
   },
   "outputs": [],
   "source": [
    "# We create our Student class again\n",
    "\n",
    "class Student:\n",
    "    \n",
    "    # grade is associated with the class and is the same with all objects,\n",
    "    #     to start\n",
    "    grade = 100\n",
    "    \n",
    "    # Normally dunder methods go close to the beginning of the class\n",
    "    def __init__(self):\n",
    "        \n",
    "        # The age attribute is associated with the objects themselves.\n",
    "        self.age = 18\n",
    "        print('I was created with the age of', self.age)\n",
    "    \n",
    "    def party(self):\n",
    "        self.grade -= 10\n",
    "        print('I partied so hard my grade is:', self.grade)"
   ]
  },
  {
   "cell_type": "code",
   "execution_count": null,
   "metadata": {
    "collapsed": true
   },
   "outputs": [],
   "source": []
  },
  {
   "cell_type": "markdown",
   "metadata": {},
   "source": [
    "If we use it it looks like this:"
   ]
  },
  {
   "cell_type": "code",
   "execution_count": null,
   "metadata": {
    "collapsed": true
   },
   "outputs": [],
   "source": [
    "albert = Student()\n",
    "\n",
    "print(albert.grade, albert.age, sep='\\n')"
   ]
  },
  {
   "cell_type": "markdown",
   "metadata": {},
   "source": [
    "One of the really nice things about the `.__init__()` methods is you can pass it arguments on creation"
   ]
  },
  {
   "cell_type": "code",
   "execution_count": null,
   "metadata": {
    "collapsed": true
   },
   "outputs": [],
   "source": [
    "class Student:\n",
    "    grade = 100\n",
    "    \n",
    "    # This time we take in TWO arguments. Remember the first one is always passed in as a way to refer our instance\n",
    "    \n",
    "    def __init__(self, age):\n",
    "        # Now we assign age to whatever we pass in\n",
    "        \n",
    "        self.age = age\n",
    "        print('I am created at the age of', self.age)\n",
    "    \n",
    "    def party(self):\n",
    "        self.grade -= 10\n",
    "        print('I partied so hard my grade is:', self.grade)"
   ]
  },
  {
   "cell_type": "markdown",
   "metadata": {},
   "source": [
    "An example of using the `.__init__()` method with parameters would be"
   ]
  },
  {
   "cell_type": "code",
   "execution_count": null,
   "metadata": {
    "collapsed": true
   },
   "outputs": [],
   "source": [
    "karen = Student(42)  # We only give it one parameter\n",
    "\n",
    "print(karen.age)  # Note how age is what we gave it"
   ]
  },
  {
   "cell_type": "markdown",
   "metadata": {},
   "source": [
    "## `.__del__()`\n",
    "\n",
    "When no variables point to a Python object anymore Python automatically deletes the object in the background without us even having to worry about it"
   ]
  },
  {
   "cell_type": "code",
   "execution_count": null,
   "metadata": {
    "collapsed": true
   },
   "outputs": [],
   "source": [
    "class Student:\n",
    "    grade = 100\n",
    "    \n",
    "    def __init__(self, age):\n",
    "        self.age = age\n",
    "        print('I am created at the age of', self.age)\n",
    "    \n",
    "    def party(self):\n",
    "        self.grade -= 10\n",
    "        print('I partied so hard my grade is:', self.grade)\n",
    "    \n",
    "    # This will run when Python destroys this object\n",
    "    \n",
    "    def __del__(self):\n",
    "        print('I HAVE BEEN DECONSTRUCTED')"
   ]
  },
  {
   "cell_type": "code",
   "execution_count": null,
   "metadata": {
    "collapsed": true
   },
   "outputs": [],
   "source": [
    "# We create our object\n",
    "sammy = Student(15)\n",
    "\n",
    "# We do some operation\n",
    "sammy.party()\n",
    "\n",
    "# We overwrite the object with something else. This is where the .__del__() methods comes into play\n",
    "sammy = 'sammy clone'"
   ]
  },
  {
   "cell_type": "markdown",
   "metadata": {},
   "source": [
    "# Experience Points!\n",
    "---"
   ]
  },
  {
   "cell_type": "markdown",
   "metadata": {},
   "source": [
    "In your **text editor** re-open your file that you made the class in\n",
    "\n",
    "Inside your script you should edit your class to include the followoing\n",
    "\n",
    "* Create a `.__init__()` method that takes a two parameters and assigns them to `fur_color` and `size` attributes respectively\n",
    "* Make a `.__del__()` method that prints out both the `fur_color` and `size` attributes when the object gets destroyed.\n",
    "\n",
    "Once you've done all of this run your script from the Ipython interpreter and then run the `dir()` function on your class. Note what you see"
   ]
  },
  {
   "cell_type": "markdown",
   "metadata": {},
   "source": [
    "When you complete this exercise, please put your green post-it on your monitor. \n",
    "\n",
    "If you want to continue on at your own-pace, please feel free to do so.\n",
    "\n",
    "<img src='../images/green_sticky.300px.png' width='200' style='float:left'>"
   ]
  },
  {
   "cell_type": "markdown",
   "metadata": {
    "collapsed": true
   },
   "source": [
    "# Inheritance\n",
    "---"
   ]
  },
  {
   "cell_type": "markdown",
   "metadata": {},
   "source": [
    "One of the things we can do when defining classes is to create them based off other classes. Say for example our `Student` class. We want a new class that can do everything the `Student` class can and more. We can create a new class that we then have **inherit** all of the methods and attributes of a parent class. This lets the new class have it's own set of methods/attributes that it can refer to separate from the originals but with additional new methods or attributes as well."
   ]
  },
  {
   "cell_type": "markdown",
   "metadata": {},
   "source": [
    "This is how we do it"
   ]
  },
  {
   "cell_type": "code",
   "execution_count": 25,
   "metadata": {
    "collapsed": true
   },
   "outputs": [],
   "source": [
    "class Student:\n",
    "    grade = 100\n",
    "    \n",
    "    def __init__(self, age):\n",
    "        self.age = age\n",
    "        print('I am created at the age of', self.age)\n",
    "    \n",
    "    def party(self):\n",
    "        self.grade -= 10\n",
    "        print('I partied so hard my grade is:', self.grade)\n",
    "    \n",
    "    def __del__(self):\n",
    "        print('I HAVE BEEN DECONSTRUCTED')\n",
    "        \n",
    "# Start off with the first class we want to inherit from"
   ]
  },
  {
   "cell_type": "code",
   "execution_count": 26,
   "metadata": {
    "collapsed": true
   },
   "outputs": [],
   "source": [
    "# Notice we now have parentheses after naming our class\n",
    "#     The original class we put inside there is called the parent class or even the superclass\n",
    "\n",
    "class good_Student(Student):\n",
    "    \n",
    "    def study(self):\n",
    "        self.grade += 10\n",
    "        print('I worked hard and studied to bring my grade up to:', self.grade)"
   ]
  },
  {
   "cell_type": "code",
   "execution_count": 27,
   "metadata": {},
   "outputs": [
    {
     "name": "stdout",
     "output_type": "stream",
     "text": [
      "I am created at the age of 15\n",
      "I partied so hard my grade is: 90\n"
     ]
    }
   ],
   "source": [
    "# We can still use the old class like normal and it will function properly\n",
    "\n",
    "steve = Student(15)\n",
    "\n",
    "steve.party()"
   ]
  },
  {
   "cell_type": "code",
   "execution_count": 28,
   "metadata": {},
   "outputs": [
    {
     "ename": "AttributeError",
     "evalue": "'Student' object has no attribute 'study'",
     "output_type": "error",
     "traceback": [
      "\u001b[0;31m---------------------------------------------------------------------------\u001b[0m",
      "\u001b[0;31mAttributeError\u001b[0m                            Traceback (most recent call last)",
      "\u001b[0;32m<ipython-input-28-5286d793f027>\u001b[0m in \u001b[0;36m<module>\u001b[0;34m()\u001b[0m\n\u001b[1;32m      2\u001b[0m \u001b[0;31m# This will fail\u001b[0m\u001b[0;34m\u001b[0m\u001b[0;34m\u001b[0m\u001b[0m\n\u001b[1;32m      3\u001b[0m \u001b[0;34m\u001b[0m\u001b[0m\n\u001b[0;32m----> 4\u001b[0;31m \u001b[0msteve\u001b[0m\u001b[0;34m.\u001b[0m\u001b[0mstudy\u001b[0m\u001b[0;34m(\u001b[0m\u001b[0;34m)\u001b[0m\u001b[0;34m\u001b[0m\u001b[0m\n\u001b[0m",
      "\u001b[0;31mAttributeError\u001b[0m: 'Student' object has no attribute 'study'"
     ]
    }
   ],
   "source": [
    "# Inheriting from a parent class DOES NOT change the parent class\n",
    "# This will fail\n",
    "\n",
    "steve.study()"
   ]
  },
  {
   "cell_type": "code",
   "execution_count": 29,
   "metadata": {},
   "outputs": [
    {
     "name": "stdout",
     "output_type": "stream",
     "text": [
      "I am created at the age of 17\n",
      "I partied so hard my grade is: 90\n"
     ]
    }
   ],
   "source": [
    "# Now if we try to use the new class we can use it just like the old one\n",
    "\n",
    "ellen = good_Student(17)\n",
    "\n",
    "ellen.party()"
   ]
  },
  {
   "cell_type": "code",
   "execution_count": 30,
   "metadata": {},
   "outputs": [
    {
     "name": "stdout",
     "output_type": "stream",
     "text": [
      "I worked hard and studied to bring my grade up to: 100\n"
     ]
    }
   ],
   "source": [
    "# AND we get the functionality of the new one\n",
    "\n",
    "ellen.study()"
   ]
  },
  {
   "cell_type": "markdown",
   "metadata": {},
   "source": [
    "# Experience Points!\n",
    "---"
   ]
  },
  {
   "cell_type": "markdown",
   "metadata": {},
   "source": [
    "In your **text editor** re-open your file that you made the class in\n",
    "\n",
    "Inside your script you should make a new class that inherits from the first one. This new class should do the following\n",
    "\n",
    "* Create a new method that takes an argument and assigns it to the `size` attribute\n",
    "* Create a new method that prints out both `size` and `fur_color` respectively\n",
    "\n",
    "Once this is done make an instance of your first object and an instance of this new object. Run the `dir()` function on them both and see what it shows you"
   ]
  },
  {
   "cell_type": "markdown",
   "metadata": {},
   "source": [
    "When you complete this exercise, please put your green post-it on your monitor. \n",
    "\n",
    "If you want to continue on at your own-pace, please feel free to do so.\n",
    "\n",
    "<img src='../images/green_sticky.300px.png' width='200' style='float:left'>"
   ]
  }
 ],
 "metadata": {
  "kernelspec": {
   "display_name": "Python 3",
   "language": "python",
   "name": "python3"
  },
  "language_info": {
   "codemirror_mode": {
    "name": "ipython",
    "version": 3
   },
   "file_extension": ".py",
   "mimetype": "text/x-python",
   "name": "python",
   "nbconvert_exporter": "python",
   "pygments_lexer": "ipython3",
   "version": "3.6.0"
  }
 },
 "nbformat": 4,
 "nbformat_minor": 1
}
