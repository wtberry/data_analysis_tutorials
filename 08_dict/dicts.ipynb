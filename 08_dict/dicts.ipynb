{
 "cells": [
  {
   "cell_type": "markdown",
   "metadata": {
    "slideshow": {
     "slide_type": "slide"
    }
   },
   "source": [
    "# Welcome to the Dark Art of Coding:\n",
    "## Introduction to Python\n",
    "Dictionaries\n",
    "\n",
    "<img src='../images/dark_art_logo.600px.png' width='300' style=\"float:right\">"
   ]
  },
  {
   "cell_type": "markdown",
   "metadata": {},
   "source": [
    "# Objectives\n",
    "---"
   ]
  },
  {
   "cell_type": "markdown",
   "metadata": {},
   "source": [
    "In this session, students should expect to:\n",
    "\n",
    "* Explore the dictionary datatype\n",
    "* Understand how to add data to a dictionary\n",
    "* Understand how to modify data in a dictionary\n",
    "* Understand how to use keys to retrieved values from a dictionary\n"
   ]
  },
  {
   "cell_type": "markdown",
   "metadata": {
    "slideshow": {
     "slide_type": "slide"
    }
   },
   "source": [
    "<h1>What is a dictionary?</h1>"
   ]
  },
  {
   "cell_type": "markdown",
   "metadata": {},
   "source": [
    "A dictionary is a collection of key and value pairs.\n",
    "\n",
    "* Each key must be unique\n",
    "* Each key must be hashable (strings, tuples, etc)\n",
    "* Dictionaries are heavily optimized for speed\n",
    "* Dictionaries are generally unordered**\n",
    "\n",
    "Hashing is an algorithm that produces a unique identifier for any given input.\n",
    "The unique identifier is used by Python to enable your data to be found very quickly.\n",
    "\n",
    "**NOTE:** Changes in Python 3.6 may alter whether dictionaries are ordered/unordered..."
   ]
  },
  {
   "cell_type": "code",
   "execution_count": null,
   "metadata": {
    "collapsed": true,
    "slideshow": {
     "slide_type": "slide"
    }
   },
   "outputs": [],
   "source": [
    "# Let's make a sample dictionary.\n",
    "# This syntax produces a dictionary literal\n",
    "# There are other methods available to make dictionaries \n",
    "#     and there is a dict() factory function\n",
    "\n",
    "contact = {'name': 'Arthur',\n",
    "           'number': '867-5309',\n",
    "           'email': 'genericEmail42@gmail.com'}\n",
    "contact\n",
    "\n",
    "# NOTE: dictionaries are unordered."
   ]
  },
  {
   "cell_type": "code",
   "execution_count": null,
   "metadata": {
    "collapsed": true,
    "slideshow": {
     "slide_type": "slide"
    }
   },
   "outputs": [],
   "source": [
    "# If we just want one item from a dict we access it \n",
    "#     using the same:\n",
    "#\n",
    "#     object[subscript]\n",
    "#\n",
    "#     model seen with strings and lists\n",
    "\n",
    "contact['name']"
   ]
  },
  {
   "cell_type": "markdown",
   "metadata": {
    "slideshow": {
     "slide_type": "slide"
    }
   },
   "source": [
    "<h1>Lists vs. Dicts</h1>"
   ]
  },
  {
   "cell_type": "code",
   "execution_count": null,
   "metadata": {
    "collapsed": true,
    "slideshow": {
     "slide_type": "subslide"
    }
   },
   "outputs": [],
   "source": [
    "# For small amounts of easily understood data,\n",
    "# storing the same data in a list is just about as easy\n",
    "# however if the data gets too large OR is too similar, \n",
    "# remembering which index goes to what item can be tough\n",
    "#\n",
    "# And what happens if you want to put more data at the\n",
    "# beginning of a list and it shifts every item down the line?\n",
    "\n",
    "contact_list = ['Arthur', '867-5309', 'genericEmail42@gmail.com']\n",
    "\n",
    "print(contact_list[0])"
   ]
  },
  {
   "cell_type": "code",
   "execution_count": null,
   "metadata": {
    "collapsed": true,
    "scrolled": true,
    "slideshow": {
     "slide_type": "fragment"
    }
   },
   "outputs": [],
   "source": [
    "# Earlier we typed this same dictionary on multiple lines\n",
    "# to make it easier to read but one-row construct is \n",
    "# just as valid\n",
    "\n",
    "contact_dict = {'name': 'Arthur', 'number': '867-5309', 'email': 'genericEmail@gmail.com'}\n",
    "\n",
    "print(contact_dict['name'])"
   ]
  },
  {
   "cell_type": "markdown",
   "metadata": {},
   "source": [
    "# XP Grind!\n",
    "---"
   ]
  },
  {
   "cell_type": "markdown",
   "metadata": {
    "slideshow": {
     "slide_type": "slide"
    }
   },
   "source": [
    "<ol>\n",
    "<li>Create a dictionary with the following keys. Provide a value of your choosing to each key:</li>\n",
    "<ol>\n",
    "    <li>name</li>\n",
    "    <li>food</li>\n",
    "    <li>music</li>\n",
    "</ol>\n",
    "</ol>"
   ]
  },
  {
   "cell_type": "markdown",
   "metadata": {},
   "source": [
    "When you complete this exercise, please put your green post-it on your monitor. \n",
    "\n",
    "If you want to continue on at your own-pace, please feel free to do so.\n",
    "\n",
    "<img src='../images/green_sticky.300px.png' width='200' style='float:left'>"
   ]
  },
  {
   "cell_type": "code",
   "execution_count": null,
   "metadata": {
    "collapsed": true,
    "slideshow": {
     "slide_type": "slide"
    }
   },
   "outputs": [],
   "source": [
    "# Lists have order associated with their items so if you create\n",
    "# a list with a different order a comparison\n",
    "# will say they are not equivalent\n",
    "\n",
    "ex_list1 = ['val1', 'val2']\n",
    "ex_list2 = ['val2', 'val1']\n",
    "\n",
    "print('Are these lists equivalent: ', ex_list1 == ex_list2)"
   ]
  },
  {
   "cell_type": "code",
   "execution_count": null,
   "metadata": {
    "collapsed": true,
    "slideshow": {
     "slide_type": "fragment"
    }
   },
   "outputs": [],
   "source": [
    "# As noted previously... dictionaries are unordered. When\n",
    "# creating them no order is associated with their\n",
    "# items so you can create them in whatever\n",
    "# order you like and the two dictionaries will \n",
    "# still be equivalent\n",
    "\n",
    "ex_dict1 = {'key1': 'val1', 'key2': 'val2'}\n",
    "ex_dict2 = {'key2': 'val2', 'key1': 'val1'}\n",
    "\n",
    "print('Are these dicts equivalent: ', ex_dict1 == ex_dict2)"
   ]
  },
  {
   "cell_type": "code",
   "execution_count": null,
   "metadata": {
    "collapsed": true,
    "slideshow": {
     "slide_type": "slide"
    }
   },
   "outputs": [],
   "source": [
    "# What happens if we try to access a key that doesn't exist?\n",
    "\n",
    "contact['address']"
   ]
  },
  {
   "cell_type": "code",
   "execution_count": null,
   "metadata": {
    "collapsed": true,
    "slideshow": {
     "slide_type": "subslide"
    }
   },
   "outputs": [],
   "source": [
    "# If we want to make a new key and assign it some value we can\n",
    "# do it like this:\n",
    "\n",
    "# Also note... our values can be any Python object.\n",
    "\n",
    "\n",
    "contact['address'] = ['42-503 Lorelana Dr.', 'Honolulu HI', '95746']\n",
    "contact"
   ]
  },
  {
   "cell_type": "markdown",
   "metadata": {},
   "source": [
    "# XP Grind!\n",
    "---"
   ]
  },
  {
   "cell_type": "markdown",
   "metadata": {
    "slideshow": {
     "slide_type": "slide"
    }
   },
   "source": [
    "Create a new dictionary with the following keys. Provide a value of your choosing for each key BUT this time incorporate multiple datatypes such as integers, lists, etc:\n",
    "\n",
    "key | value type\n",
    ":---|:---\n",
    "name | str\n",
    "age | int\n",
    "favorite_foods | list\n",
    "favorite_songs | list"
   ]
  },
  {
   "cell_type": "markdown",
   "metadata": {},
   "source": [
    "When you complete this exercise, please put your green post-it on your monitor. \n",
    "\n",
    "If you want to continue on at your own-pace, please feel free to do so.\n",
    "\n",
    "<img src='../images/green_sticky.300px.png' width='200' style='float:left'>"
   ]
  },
  {
   "cell_type": "markdown",
   "metadata": {
    "slideshow": {
     "slide_type": "slide"
    }
   },
   "source": [
    "<h1>Keys(), Values(), Items()</h1>"
   ]
  },
  {
   "cell_type": "code",
   "execution_count": null,
   "metadata": {
    "collapsed": true,
    "slideshow": {
     "slide_type": "slide"
    }
   },
   "outputs": [],
   "source": [
    "print(contact.keys())\n",
    "\n",
    "# the output of this is a VIEW of the keys in contact\n",
    "# it might resemble a list, but it has subtle differences..."
   ]
  },
  {
   "cell_type": "code",
   "execution_count": null,
   "metadata": {
    "collapsed": true
   },
   "outputs": [],
   "source": [
    "# We can iterate through the keys of a given dict\n",
    "\n",
    "for key in contact:\n",
    "    print(key)"
   ]
  },
  {
   "cell_type": "code",
   "execution_count": null,
   "metadata": {
    "collapsed": true,
    "slideshow": {
     "slide_type": "fragment"
    }
   },
   "outputs": [],
   "source": [
    "# You will sometimes see this written in this way\n",
    "# which is NOT wrong, but considered poor form/unnecessary.\n",
    "# in for loops the default is to iterate over the keys()\n",
    "\n",
    "for key in contact.keys():\n",
    "    print(key)    "
   ]
  },
  {
   "cell_type": "code",
   "execution_count": null,
   "metadata": {
    "collapsed": true,
    "slideshow": {
     "slide_type": "fragment"
    }
   },
   "outputs": [],
   "source": [
    "# There's a similar method that returns a set of values\n",
    "\n",
    "print(contact.values())"
   ]
  },
  {
   "cell_type": "code",
   "execution_count": null,
   "metadata": {
    "collapsed": true,
    "slideshow": {
     "slide_type": "fragment"
    }
   },
   "outputs": [],
   "source": [
    "# You can iterate through this set as well\n",
    "# NOTE: Referencing the values method is required, there is\n",
    "#       no default/shortcut as there was with .keys()\n",
    "\n",
    "for v in contact.values():\n",
    "    print(v)"
   ]
  },
  {
   "cell_type": "code",
   "execution_count": null,
   "metadata": {
    "collapsed": true,
    "slideshow": {
     "slide_type": "slide"
    }
   },
   "outputs": [],
   "source": [
    "# What if you want both the keys and values (as pairs)\n",
    "\n",
    "for k, v in contact.items():\n",
    "    print(k + \":\\t\", v)"
   ]
  },
  {
   "cell_type": "markdown",
   "metadata": {
    "slideshow": {
     "slide_type": "slide"
    }
   },
   "source": [
    "<h1>XP Grind!</h1>\n",
    "On the **IPython interpreter** do each of the following:\n",
    "\n",
    "Use your previous dict and print out the output of the following methods\n",
    "\n",
    "For each one:\n",
    "\n",
    "* use a for loop to iterate over them AND \n",
    "* simply print them en masse.\n",
    "\n",
    "Methods:\n",
    "\n",
    "* .keys()\n",
    "* .values()\n",
    "* .items()"
   ]
  },
  {
   "cell_type": "markdown",
   "metadata": {},
   "source": [
    "When you complete this exercise, please put your green post-it on your monitor. \n",
    "\n",
    "If you want to continue on at your own-pace, please feel free to do so.\n",
    "\n",
    "<img src='../images/green_sticky.300px.png' width='200' style='float:left'>"
   ]
  },
  {
   "cell_type": "code",
   "execution_count": null,
   "metadata": {
    "collapsed": true,
    "slideshow": {
     "slide_type": "fragment"
    }
   },
   "outputs": [],
   "source": [
    "# If we want to get value but we're not sure if\n",
    "# that key/value pair exists BUT...\n",
    "# we don't want to crash\n",
    "\n",
    "# we have an option...\n",
    "\n",
    "contact['account_status']"
   ]
  },
  {
   "cell_type": "code",
   "execution_count": null,
   "metadata": {
    "collapsed": true,
    "slideshow": {
     "slide_type": "fragment"
    }
   },
   "outputs": [],
   "source": [
    "# .get() allows you to _get_ a default value back... \n",
    "# WARNING: .get() does NOT alter OR update the dictionary.\n",
    "\n",
    "contact.get('account_status', 'No account recorded')"
   ]
  },
  {
   "cell_type": "code",
   "execution_count": null,
   "metadata": {
    "collapsed": true,
    "slideshow": {
     "slide_type": "fragment"
    }
   },
   "outputs": [],
   "source": [
    "# Notice how the dictionary stays the same\n",
    "# 'account_status' has NOT been added\n",
    "\n",
    "contact"
   ]
  },
  {
   "cell_type": "code",
   "execution_count": null,
   "metadata": {
    "collapsed": true,
    "slideshow": {
     "slide_type": "slide"
    }
   },
   "outputs": [],
   "source": [
    "# .setdefault() on the other hand, allows you to _set_ a dictionary value\n",
    "# based on a default if the value does not already exist.\n",
    "\n",
    "contact.setdefault('account_status', 'No account')\n",
    "\n",
    "contact"
   ]
  },
  {
   "cell_type": "code",
   "execution_count": null,
   "metadata": {
    "collapsed": true,
    "slideshow": {
     "slide_type": "fragment"
    }
   },
   "outputs": [],
   "source": [
    "# if the value exists already, the .setdefault() method simply reads the \n",
    "# existing value.\n",
    "\n",
    "contact.setdefault('name', 'Name not given')"
   ]
  },
  {
   "cell_type": "code",
   "execution_count": null,
   "metadata": {
    "collapsed": true,
    "slideshow": {
     "slide_type": "slide"
    }
   },
   "outputs": [],
   "source": [
    "# notice that contact now has a value for the 'account_status' key.\n",
    "\n",
    "contact"
   ]
  },
  {
   "cell_type": "markdown",
   "metadata": {},
   "source": [
    "# Counting objects using dictionaries"
   ]
  },
  {
   "cell_type": "code",
   "execution_count": null,
   "metadata": {
    "collapsed": true
   },
   "outputs": [],
   "source": [
    "# Say we get in a list of items and we want to see which letters have the highest count\n",
    "\n",
    "mList = list('this is going to be a list for us to count which letter occurs most often')\n",
    "\n",
    "count = {} # We create our counting dict\n",
    "\n",
    "for item in mList:\n",
    "    if item in count.keys():   # We check to see if we've already made a key for this item\n",
    "        count[item] += 1       # Then we add one to the tally\n",
    "    else:                      # If it hasn't shown up then we create a key for that item and set its value to 1\n",
    "        count[item] = 1\n",
    "\n",
    "count"
   ]
  },
  {
   "cell_type": "code",
   "execution_count": null,
   "metadata": {
    "collapsed": true
   },
   "outputs": [],
   "source": [
    "# This method is a lot simpler\n",
    "\n",
    "mList = list('this is going to be a list for us to count which letter occurs most often')\n",
    "\n",
    "count = {}\n",
    "\n",
    "for item in mList:\n",
    "    count[item] = count.get(item, 0) + 1    # Using the get method we don't need to have a value there\n",
    "                                            # already because if it isn't there it evaluates to 0\n",
    "                                            # by default\n",
    "count"
   ]
  },
  {
   "cell_type": "markdown",
   "metadata": {
    "slideshow": {
     "slide_type": "slide"
    }
   },
   "source": [
    "# XP Grind!\n",
    "\n",
    "In your **text editor** create a simple script called:\n",
    "\n",
    "`my_dicts_01.py`\n",
    "\n",
    "Execute your script in the **IPython interpreter** using the command:\n",
    "\n",
    "`run my_dicts_01.py`\n",
    "\n",
    "* Create a dictionary called: `user`\n",
    "* Have a for loop iterate through a list of the following strings: `['Name', 'Phone', 'City', 'State']`\n",
    "* In each iteration:\n",
    "    * use the current item from the list as a key in the dictionary `user`\n",
    "    * get `input()` from the user and store that as the value for the key\n",
    "* Print out `user`"
   ]
  },
  {
   "cell_type": "markdown",
   "metadata": {},
   "source": [
    "When you complete this exercise, please put your green post-it on your monitor. \n",
    "\n",
    "If you want to continue on at your own-pace, please feel free to do so.\n",
    "\n",
    "<img src='../images/green_sticky.300px.png' width='200' style='float:left'>"
   ]
  },
  {
   "cell_type": "code",
   "execution_count": null,
   "metadata": {
    "collapsed": true,
    "slideshow": {
     "slide_type": "slide"
    }
   },
   "outputs": [],
   "source": [
    "user = {}\n",
    "for item in ['Name', 'Phone', 'City', 'State']:\n",
    "    user[item] = input('What is your current ' + item + ': ')\n",
    "\n",
    "    \n",
    "user"
   ]
  },
  {
   "cell_type": "markdown",
   "metadata": {
    "slideshow": {
     "slide_type": "slide"
    }
   },
   "source": [
    "# Pretty Printing\n",
    "\n",
    "There's a special module used to help disply large amounts of data that can sometimes be difficult to read"
   ]
  },
  {
   "cell_type": "code",
   "execution_count": null,
   "metadata": {
    "collapsed": true,
    "slideshow": {
     "slide_type": "slide"
    }
   },
   "outputs": [],
   "source": [
    "# When we run this it's going to take every item pair and put it on it's own\n",
    "# line making it much easier to digest\n",
    "\n",
    "import pprint\n",
    "pprint.pprint(contact)"
   ]
  },
  {
   "cell_type": "code",
   "execution_count": null,
   "metadata": {
    "collapsed": true,
    "slideshow": {
     "slide_type": "subslide"
    }
   },
   "outputs": [],
   "source": [
    "# .pformat() allows you to capture the pprint() formatting for later use.\n",
    "\n",
    "text = pprint.pformat(contact)\n",
    "\n",
    "print(text)"
   ]
  }
 ],
 "metadata": {
  "anaconda-cloud": {},
  "celltoolbar": "Slideshow",
  "kernelspec": {
   "display_name": "Python 3",
   "language": "python",
   "name": "python3"
  },
  "language_info": {
   "codemirror_mode": {
    "name": "ipython",
    "version": 3
   },
   "file_extension": ".py",
   "mimetype": "text/x-python",
   "name": "python",
   "nbconvert_exporter": "python",
   "pygments_lexer": "ipython3",
   "version": "3.6.0"
  }
 },
 "nbformat": 4,
 "nbformat_minor": 1
}
