{
 "cells": [
  {
   "cell_type": "markdown",
   "metadata": {},
   "source": [
    "# Welcome to the Dark Art of Coding:\n",
    "## Introduction to Python\n",
    "tuples\n",
    "\n",
    "<img src='../images/dark_art_logo.600px.png' width='300' style=\"float:right\">"
   ]
  },
  {
   "cell_type": "markdown",
   "metadata": {},
   "source": [
    "# Objectives\n",
    "---"
   ]
  },
  {
   "cell_type": "markdown",
   "metadata": {},
   "source": [
    "In this session, students should expect to:\n",
    "\n",
    "* understand how to create a tuple\n",
    "* understand the limitations to using tuples\n",
    "* understand the benefits and primary uses for tuples\n"
   ]
  },
  {
   "cell_type": "markdown",
   "metadata": {},
   "source": [
    "# Tuples\n",
    "---"
   ]
  },
  {
   "cell_type": "code",
   "execution_count": 1,
   "metadata": {},
   "outputs": [
    {
     "data": {
      "text/plain": [
       "('bruce wayne', 'gotham', 'batman')"
      ]
     },
     "execution_count": 1,
     "metadata": {},
     "output_type": "execute_result"
    }
   ],
   "source": [
    "# Tuples are often created by using the tuple() factory function\n",
    "# Nearly any sequence can be converted to a tuple using the tuple() factory function\n",
    "\n",
    "superhero = tuple(['bruce wayne', 'gotham', 'batman'])\n",
    "superhero"
   ]
  },
  {
   "cell_type": "code",
   "execution_count": 2,
   "metadata": {},
   "outputs": [
    {
     "name": "stdout",
     "output_type": "stream",
     "text": [
      "<class 'tuple'> ('diana',)\n",
      "<class 'str'> bruce\n"
     ]
    }
   ],
   "source": [
    "# It is also possible to create tuples simply using parenthesis AND commas\n",
    "# NOTE: the comma is important, as we will see.\n",
    "\n",
    "sample_tuple = ('diana', )\n",
    "not_a_tuple = ('bruce')\n",
    "\n",
    "print(type(sample_tuple), sample_tuple)\n",
    "print(type(not_a_tuple), not_a_tuple)\n"
   ]
  },
  {
   "cell_type": "code",
   "execution_count": 3,
   "metadata": {},
   "outputs": [
    {
     "data": {
      "text/plain": [
       "('diana prince', 42, ['golden lasso', 'bracelets'])"
      ]
     },
     "execution_count": 3,
     "metadata": {},
     "output_type": "execute_result"
    }
   ],
   "source": [
    "# Tuples, like lists, can include:\n",
    "#     strings\n",
    "#     integers\n",
    "#     floats\n",
    "#     and nested objects like lists and other tuples\n",
    "\n",
    "heroine = ('diana prince', 42, ['golden lasso', 'bracelets'])\n",
    "heroine"
   ]
  },
  {
   "cell_type": "code",
   "execution_count": 5,
   "metadata": {},
   "outputs": [
    {
     "data": {
      "text/plain": [
       "'diana prince'"
      ]
     },
     "execution_count": 5,
     "metadata": {},
     "output_type": "execute_result"
    }
   ],
   "source": [
    "# Elements from a tuple can be accessed in exactly the same way as in lists\n",
    "# Remember: Python indexes from 0\n",
    "\n",
    "heroine[0]"
   ]
  },
  {
   "cell_type": "code",
   "execution_count": 6,
   "metadata": {},
   "outputs": [
    {
     "data": {
      "text/plain": [
       "['golden lasso', 'bracelets']"
      ]
     },
     "execution_count": 6,
     "metadata": {},
     "output_type": "execute_result"
    }
   ],
   "source": [
    "heroine[2]"
   ]
  },
  {
   "cell_type": "markdown",
   "metadata": {},
   "source": [
    "# tuple methods\n",
    "---"
   ]
  },
  {
   "cell_type": "markdown",
   "metadata": {
    "collapsed": true
   },
   "source": [
    "Methods like append, extend, aren't available in tuples\n",
    "In fact, there are **only two** methods for tuples:\n",
    "\n",
    "* `T.count()`\n",
    "* `T.index()`\n",
    "\n"
   ]
  },
  {
   "cell_type": "code",
   "execution_count": 7,
   "metadata": {},
   "outputs": [
    {
     "data": {
      "text/plain": [
       "['batman', 'bruce wayne', 'gotham']"
      ]
     },
     "execution_count": 7,
     "metadata": {},
     "output_type": "execute_result"
    }
   ],
   "source": [
    "# If you remember lists had many many methods for changing things on the fly and in place\n",
    "# One of those was .sort()\n",
    "# You can get similar functionality if you use the sorted() function on your tuple\n",
    "\n",
    "sorted(superhero)"
   ]
  },
  {
   "cell_type": "markdown",
   "metadata": {
    "collapsed": true
   },
   "source": [
    "Tuples are very similar to lists however they're a lot simpler. \n",
    "\n",
    "There is a reason for this... tuples are intended to be **immutable**\n",
    "\n",
    "This makes tuples a lot faster and easier for Python to create and evaluate etc.\n",
    "\n",
    "On the surface, they can't be changed once created, thus you can use them in places where Python requires immutable objects, i.e. as **keys** to dictionaries\n",
    "\n",
    "Keys in dictionaries need to be **hashable** and mutable objects are not hashable in Python. Only immutable objects can be hashed.\n",
    "\n",
    "Hashable objects can be parsed via a mathematical algorithm to produce a single unique value. There are some computer science nuances behind this that we won't cover in this class."
   ]
  },
  {
   "cell_type": "markdown",
   "metadata": {},
   "source": [
    "# dictionary functionality\n",
    "---"
   ]
  },
  {
   "cell_type": "code",
   "execution_count": 8,
   "metadata": {
    "collapsed": true
   },
   "outputs": [],
   "source": [
    "# Let's create two pairs:\n",
    "# And attempt to use them as unique identifiers in a dictionary\n",
    "#     i.e. a dictionary of names vs secret identities.\n",
    "\n",
    "name_d = ['bruce', 'wayne']\n",
    "name_t = ('selina', 'kyle')"
   ]
  },
  {
   "cell_type": "code",
   "execution_count": 9,
   "metadata": {},
   "outputs": [
    {
     "ename": "TypeError",
     "evalue": "unhashable type: 'list'",
     "output_type": "error",
     "traceback": [
      "\u001b[0;31m-------------------------------------------------------------------\u001b[0m",
      "\u001b[0;31mTypeError\u001b[0m                         Traceback (most recent call last)",
      "\u001b[0;32m<ipython-input-9-a6107bb7a8c8>\u001b[0m in \u001b[0;36m<module>\u001b[0;34m()\u001b[0m\n\u001b[1;32m      2\u001b[0m \u001b[0;31m#     Python balks.\u001b[0m\u001b[0;34m\u001b[0m\u001b[0;34m\u001b[0m\u001b[0m\n\u001b[1;32m      3\u001b[0m \u001b[0;34m\u001b[0m\u001b[0m\n\u001b[0;32m----> 4\u001b[0;31m \u001b[0mcharacters\u001b[0m \u001b[0;34m=\u001b[0m \u001b[0;34m{\u001b[0m\u001b[0mname_d\u001b[0m\u001b[0;34m:\u001b[0m \u001b[0;34m'batman'\u001b[0m\u001b[0;34m}\u001b[0m\u001b[0;34m\u001b[0m\u001b[0m\n\u001b[0m",
      "\u001b[0;31mTypeError\u001b[0m: unhashable type: 'list'"
     ]
    }
   ],
   "source": [
    "# When we attempt to use a mutable value (i.e. a list) as a key in our dictionary:\n",
    "#     Python balks.\n",
    "\n",
    "characters = {name_d: 'batman'}"
   ]
  },
  {
   "cell_type": "code",
   "execution_count": 10,
   "metadata": {},
   "outputs": [
    {
     "data": {
      "text/plain": [
       "{('selina', 'kyle'): 'catwoman'}"
      ]
     },
     "execution_count": 10,
     "metadata": {},
     "output_type": "execute_result"
    }
   ],
   "source": [
    "# Using a tuple, Python successfully adds this item to the dictionary\n",
    "\n",
    "characters = {name_t: 'catwoman'}\n",
    "characters"
   ]
  },
  {
   "cell_type": "code",
   "execution_count": 25,
   "metadata": {},
   "outputs": [
    {
     "data": {
      "text/plain": [
       "dict_items([('key_1', 'value'), ('key_7', 'value'), ('key_3', 'value'), ('key_6', 'value'), ('key_5', 'value'), ('key_4', 'value'), ('key_2', 'value')])"
      ]
     },
     "execution_count": 25,
     "metadata": {},
     "output_type": "execute_result"
    }
   ],
   "source": [
    "# One of the dictionary methods returns a sequence of tuples\n",
    "\n",
    "mDict = {'key_1':'value',\n",
    "         'key_7':'value',\n",
    "         'key_3':'value',\n",
    "         'key_6':'value',\n",
    "         'key_5':'value',\n",
    "         'key_4':'value',\n",
    "         'key_2':'value'\n",
    "        }\n",
    "\n",
    "\n",
    "mDict.items()"
   ]
  },
  {
   "cell_type": "markdown",
   "metadata": {},
   "source": [
    "## Builtin: `sorted()`"
   ]
  },
  {
   "cell_type": "markdown",
   "metadata": {},
   "source": [
    "There is a builtin function in Python called `sorted()` which helps us in many ways.\n",
    "\n",
    "Let's explore the sorted function..."
   ]
  },
  {
   "cell_type": "markdown",
   "metadata": {},
   "source": [
    "# Experience Points!\n",
    "---"
   ]
  },
  {
   "cell_type": "markdown",
   "metadata": {},
   "source": [
    "Research the `sorted()` function and answer the following questions:\n",
    "\n",
    "* what can be sorted by the `sorted()` function?\n",
    "* what does the `sorted()` function return?\n",
    "* what does `key` allow you to do?\n",
    "* what is the default setting for `reverse`?\n",
    "* what type of function is `sorted()`?\n"
   ]
  },
  {
   "cell_type": "markdown",
   "metadata": {},
   "source": [
    "When you complete this exercise, please put your green post-it on your monitor. \n",
    "\n",
    "If you want to continue on at your own-pace, please feel free to do so.\n",
    "\n",
    "<img src='../images/green_sticky.300px.png' width='200' style='float:left'>"
   ]
  },
  {
   "cell_type": "code",
   "execution_count": 28,
   "metadata": {},
   "outputs": [
    {
     "name": "stdout",
     "output_type": "stream",
     "text": [
      "[('key_1', 'value'),\n",
      " ('key_2', 'value'),\n",
      " ('key_3', 'value'),\n",
      " ('key_4', 'value'),\n",
      " ('key_5', 'value'),\n",
      " ('key_6', 'value'),\n",
      " ('key_7', 'value')]\n"
     ]
    }
   ],
   "source": [
    "# If we use the sorted() function on our dict.items() \n",
    "# we can see it in order if we need to\n",
    "\n",
    "# NOTE: here we are simply using the pretty print functionality\n",
    "#       make the output easier to visualize.\n",
    "\n",
    "import pprint\n",
    "\n",
    "pprint.pprint(sorted(mDict.items()))"
   ]
  },
  {
   "cell_type": "markdown",
   "metadata": {},
   "source": [
    "# Experience Points!\n",
    "---"
   ]
  },
  {
   "cell_type": "markdown",
   "metadata": {},
   "source": [
    "On the **IPython interpreter** do each of the following:\n",
    "\n",
    "Task | Sample Object(s)\n",
    ":---|:---\n",
    "Assign the label `my_age` to a tuple with one item | Your age (or the age you want to be)\n",
    "Use the type() function to confirm you have made a tuple | \n",
    "Assign the label `microbe` to a tuple that holds three values (ie. `name`, `size`, `shape`) | `amoeba`, 4, `rod`  \n",
    "Assign the label `car` to a tuple that two values and a third nested value |\n",
    "* `number of doors` (ie. 2 or 4) | 2\n",
    "* `manual` | `True` \n",
    "* `colors` (ie. exterior, interior, trim) | `black`, `red`, `black`\n",
    "\n",
    "For each tuple you make, print the tuple to the screen "
   ]
  },
  {
   "cell_type": "markdown",
   "metadata": {},
   "source": [
    "When you complete this exercise, please put your green post-it on your monitor. \n",
    "\n",
    "If you want to continue on at your own-pace, please feel free to do so.\n",
    "\n",
    "<img src='../images/green_sticky.300px.png' width='200' style='float:left'>"
   ]
  },
  {
   "cell_type": "code",
   "execution_count": 29,
   "metadata": {},
   "outputs": [
    {
     "data": {
      "text/plain": [
       "True"
      ]
     },
     "execution_count": 29,
     "metadata": {},
     "output_type": "execute_result"
    }
   ],
   "source": [
    "# Say we want to compare a set of items in tuples\n",
    "# If we ask if one tuple is greater than the other it will go one by one\n",
    "# Through the items UNTIL it finds one that is either true or false and is NOT a tie\n",
    "\n",
    "(1, 2, 4) > (1, 2, 3)"
   ]
  },
  {
   "cell_type": "code",
   "execution_count": 30,
   "metadata": {},
   "outputs": [
    {
     "data": {
      "text/plain": [
       "True"
      ]
     },
     "execution_count": 30,
     "metadata": {},
     "output_type": "execute_result"
    }
   ],
   "source": [
    "(5, 3, 2000) > (5, 1, 1)"
   ]
  },
  {
   "cell_type": "code",
   "execution_count": 31,
   "metadata": {
    "collapsed": true
   },
   "outputs": [],
   "source": [
    "# Something very cool we can do is called tuple unpacking\n",
    "# We can assign multiple values to multiple variables at once\n",
    "\n",
    "name, day, age = ('Stephen', 'Wednesday', 42)"
   ]
  },
  {
   "cell_type": "code",
   "execution_count": 32,
   "metadata": {},
   "outputs": [
    {
     "name": "stdout",
     "output_type": "stream",
     "text": [
      "<class 'str'> Stephen\n",
      "<class 'str'> Wednesday\n",
      "<class 'int'> 42\n"
     ]
    }
   ],
   "source": [
    "# And now we can ask to see what's inside our variables\n",
    "\n",
    "print(type(name), name)\n",
    "print(type(day), day)\n",
    "print(type(age), age)"
   ]
  },
  {
   "cell_type": "markdown",
   "metadata": {},
   "source": [
    "# Namedtuples\n",
    "---"
   ]
  },
  {
   "cell_type": "markdown",
   "metadata": {},
   "source": [
    "Named tuples are a mechanism for creating tuples with\n",
    "* names\n",
    "* named attributes"
   ]
  },
  {
   "cell_type": "code",
   "execution_count": 52,
   "metadata": {
    "collapsed": true
   },
   "outputs": [],
   "source": [
    "# namedtuples are accessible from the collections module\n",
    "# When calling the namedtuple() factory function, we provide the\n",
    "#     name of the type of namedtuple\n",
    "#     and the names of each of the fields/attributes\n",
    "\n",
    "from collections import namedtuple\n",
    "\n",
    "Heroine = namedtuple('Heroine', ['fname', 'lname'])\n",
    "\n",
    "# NOTE: you do not need to have the label match the type (Heroine = 'Heroine\")\n",
    "#       but it is very common to see this in books, etc.\n"
   ]
  },
  {
   "cell_type": "code",
   "execution_count": 53,
   "metadata": {
    "collapsed": true
   },
   "outputs": [],
   "source": [
    "# Let's make our first object based on the Heroine template\n",
    "\n",
    "heroine = Heroine('diana', 'prince')"
   ]
  },
  {
   "cell_type": "code",
   "execution_count": 54,
   "metadata": {},
   "outputs": [
    {
     "data": {
      "text/plain": [
       "__main__.Heroine"
      ]
     },
     "execution_count": 54,
     "metadata": {},
     "output_type": "execute_result"
    }
   ],
   "source": [
    "# We see that it really is modeled after the Heroine namedtuple\n",
    "\n",
    "type(heroine)"
   ]
  },
  {
   "cell_type": "code",
   "execution_count": 55,
   "metadata": {},
   "outputs": [
    {
     "data": {
      "text/plain": [
       "'prince'"
      ]
     },
     "execution_count": 55,
     "metadata": {},
     "output_type": "execute_result"
    }
   ],
   "source": [
    "# Add amazingly, awesomely, we can access the individual fields by name\n",
    "\n",
    "heroine.lname"
   ]
  },
  {
   "cell_type": "code",
   "execution_count": 56,
   "metadata": {},
   "outputs": [
    {
     "data": {
      "text/plain": [
       "'diana'"
      ]
     },
     "execution_count": 56,
     "metadata": {},
     "output_type": "execute_result"
    }
   ],
   "source": [
    "heroine.fname"
   ]
  },
  {
   "cell_type": "markdown",
   "metadata": {},
   "source": [
    "# Experience Points!\n",
    "---"
   ]
  },
  {
   "cell_type": "markdown",
   "metadata": {},
   "source": [
    "In your **text editor** create a simple script called:\n",
    "\n",
    "```bash\n",
    "my_tuples_01.py```\n",
    "\n",
    "Execute your script in the **IPython interpreter** using the command:\n",
    "\n",
    "```bash\n",
    "run my_tuples_01.py```\n",
    "\n",
    "In your script, add code that does the following:\n",
    "\n",
    "1. Import the namedtuple function from the collections module\n",
    "1. Assign the label `Automobile` to a namedtuple with a type and a list of attributes:\n",
    "    1. type = `Automobile`\n",
    "    1. these attributes: `number_of_doors`, `manual`, `colors`\n",
    "1. Assign the label `my_car` to an object created with your new `Automobile` template\n",
    "    1. include arguments to be assigned to each of the attributes in your namedtuple\n",
    "       * 4 doors\n",
    "       * True\n",
    "       * ['black', 'red', 'black']\n",
    "1. Print the namedtuple to the screen "
   ]
  },
  {
   "cell_type": "markdown",
   "metadata": {},
   "source": [
    "When you complete this exercise, please put your green post-it on your monitor. \n",
    "\n",
    "If you want to continue on at your own-pace, please feel free to do so.\n",
    "\n",
    "<img src='../images/green_sticky.300px.png' width='200' style='float:left'>"
   ]
  }
 ],
 "metadata": {
  "kernelspec": {
   "display_name": "Python 3",
   "language": "python",
   "name": "python3"
  },
  "language_info": {
   "codemirror_mode": {
    "name": "ipython",
    "version": 3
   },
   "file_extension": ".py",
   "mimetype": "text/x-python",
   "name": "python",
   "nbconvert_exporter": "python",
   "pygments_lexer": "ipython3",
   "version": "3.6.1"
  }
 },
 "nbformat": 4,
 "nbformat_minor": 2
}
