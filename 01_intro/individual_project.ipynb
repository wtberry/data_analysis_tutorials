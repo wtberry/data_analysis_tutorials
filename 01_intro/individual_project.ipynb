{
 "cells": [
  {
   "cell_type": "markdown",
   "metadata": {},
   "source": [
    "<h1>Welcome to the Dark Art of Coding:</h1>\n",
    "<h2>Introduction to Python</h2>\n",
    "Individual Project\n",
    "\n",
    "\n",
    "<img src='../images/logos.3.600.wide.png' height='250' width='300' style=\"float:right\">"
   ]
  },
  {
   "cell_type": "markdown",
   "metadata": {},
   "source": [
    "# Individual Project\n",
    "---"
   ]
  },
  {
   "cell_type": "markdown",
   "metadata": {},
   "source": [
    "During the course of the semester, you will work on and submit an **individual project**.\n",
    "\n",
    "A sample notebook will be provided for you to review."
   ]
  },
  {
   "cell_type": "markdown",
   "metadata": {},
   "source": [
    "# Assignment 0\n",
    "---\n",
    "**Due Friday June 02, 2017 @ 6:30 PM HST**\n"
   ]
  },
  {
   "cell_type": "markdown",
   "metadata": {},
   "source": [
    "## Choose a dataset\n",
    "\n",
    "You may use any data set you choose OR you may select on of the datasets we will make available to you.\n",
    "\n",
    "Email me a URL/link to your dataset, by the deadline listed above.\n",
    "\n",
    "Choose a dataset that clearly describes the data (i.e. via data dictionary, codebook OR clear and unambiguous column headings).\n",
    "\n",
    "**WARNING** For this class, choose datasets that are delimited > by commas, tabs, spaces, etc. Avoid proprietary formats.\n",
    "\n",
    "**WARNING**: Github imposes limits on how much data you can upload in a single file, so smaller datasets, i.e. **less than 50 MB** are recommended.\n",
    "\n",
    "**NOTE**: you can bypass this limit for your real-world projects by using Git Large File Storage, but please **avoid doing so for this class**.\n",
    "\n",
    "This site is one of a number of sites that host publically available data:\n",
    "\n",
    "* [Inter-university Consortium for Political and Social Research (ICPSR)](http://www.icpsr.umich.edu/) An international consortium of more than 750 academic institutions and research organizations\n",
    "\n",
    "These are some interesting datasets that come from Kaggle, a wonderful resource related to data analysis and data science.\n",
    "\n",
    "* [911 Calls from Montgomery County](https://www.kaggle.com/mchirico/montcoalert)\n",
    "* [Olympic medals over time](https://www.kaggle.com/the-guardian/olympic-games)"
   ]
  },
  {
   "cell_type": "markdown",
   "metadata": {},
   "source": [
    "## Assignment 0 Rubric\n",
    "\n",
    "|Measure | Point Value|\n",
    "|:---|---:|\n",
    "|Did you provide a dataset?|8|\n",
    "|Was it turned in on time?|2|\n",
    "|**Total points:**|**10**|"
   ]
  },
  {
   "cell_type": "markdown",
   "metadata": {},
   "source": [
    "# Assignment 1\n",
    "---\n",
    "**Due Friday June 09, 2017 @ 6:30 PM HST**"
   ]
  },
  {
   "cell_type": "markdown",
   "metadata": {},
   "source": [
    "## Decide on an analytical question(s)\n",
    "\n",
    "Based on the data, there may be any number of questions that you can ask.\n",
    "Consider your data and decide on a question or questions that you want to answer:\n",
    "\n",
    "* How does data point A compare to data point B over time\n",
    "* What are the statistical calculations for one or more sets of data (variance, standard deviation, etc)\n",
    "* etc."
   ]
  },
  {
   "cell_type": "markdown",
   "metadata": {},
   "source": [
    "## Evaluate and/or investigate your data\n",
    "\n",
    "Create a Python script that:\n",
    "\n",
    "* Reads in your data from a file\n",
    "* Displays samples of your data, to the screen, broken out into fields\n",
    "\n",
    "Based on what you learn, add comments to the bottom of your script that answer the following questions:\n",
    "\n",
    "* Is the data normalized?\n",
    "* Is the data complete (i.e. no empty fields)\n",
    "* Is the data corrupted OR abnormal in any way?"
   ]
  },
  {
   "cell_type": "markdown",
   "metadata": {},
   "source": [
    "## Assignment 1 Rubric\n",
    "\n",
    "|Measure | Point Value|\n",
    "|:---|---:|\n",
    "|Did you provide clear and well articulated analytic question(s)?|10|\n",
    "|Did you submit a script that meets all of the objectives outlined above?||\n",
    "|> Reads in data|15|\n",
    "|> Displays samples of your data|10|\n",
    "|> contains comments that answer each question|10|\n",
    "|Was it turned in on time?|5|\n",
    "|**Total points:**|**50**|"
   ]
  },
  {
   "cell_type": "markdown",
   "metadata": {},
   "source": [
    "# Assignment 2\n",
    "---\n",
    "**Due Friday June 16, 2017 @ 6:30 PM HST**\n"
   ]
  },
  {
   "cell_type": "markdown",
   "metadata": {},
   "source": [
    "## Write a Jupyter Notebook to transform, analyze and graph the data\n",
    "\n",
    "Depending on the results of your evaluation, write a script within a Jupyter Notebook that will:\n",
    "\n",
    "* Normalize and clean your data\n",
    "* Analyze the data and generate answers to your question(s)\n",
    "* Produce graphs to visualize the data"
   ]
  },
  {
   "cell_type": "markdown",
   "metadata": {},
   "source": [
    "## Assignment 2 Rubric\n",
    "\n",
    "|Measure | Point Value|\n",
    "|:---|---:|\n",
    "|TBD||\n",
    "|Was it turned in on time?||\n",
    "|**Total points:**|**50**|"
   ]
  },
  {
   "cell_type": "markdown",
   "metadata": {},
   "source": [
    "# Assignment 3\n",
    "---\n",
    "**Due Friday June 23, 2017 @ 6:30 PM HST**"
   ]
  },
  {
   "cell_type": "markdown",
   "metadata": {},
   "source": [
    "## Enhance your Jupyter Notebook with a writeup and summary\n",
    "\n",
    "And context to your notebook by:\n",
    "\n",
    "* Documenting the question(s)\n",
    "* Documenting the needed normalization and cleanup\n",
    "* Providing a summary"
   ]
  },
  {
   "cell_type": "markdown",
   "metadata": {},
   "source": [
    "## Assignment 3 Rubric\n",
    "\n",
    "|Measure | Point Value|\n",
    "|:---|---:|\n",
    "|TBD||\n",
    "|Was it turned in on time?||\n",
    "|**Total points:**|**50**|"
   ]
  },
  {
   "cell_type": "markdown",
   "metadata": {},
   "source": [
    "# Assignment 4\n",
    "---\n",
    "**Due Friday June 30, 2017 @ 6:30 PM HST**"
   ]
  },
  {
   "cell_type": "markdown",
   "metadata": {},
   "source": [
    "## Publish your results to Github\n",
    "\n",
    "When complete:\n",
    "\n",
    "* Publish your results to Github\n",
    "* Submit the URL to your notebook to the instructor."
   ]
  },
  {
   "cell_type": "markdown",
   "metadata": {},
   "source": [
    "## Assignment 4 Rubric\n",
    "\n",
    "|Measure | Point Value|\n",
    "|:---|---:|\n",
    "|TBD||\n",
    "|Was it turned in on time?||\n",
    "|**Total points:**|**25**|"
   ]
  }
 ],
 "metadata": {
  "anaconda-cloud": {},
  "kernelspec": {
   "display_name": "Python 3",
   "language": "python",
   "name": "python3"
  },
  "language_info": {
   "codemirror_mode": {
    "name": "ipython",
    "version": 3
   },
   "file_extension": ".py",
   "mimetype": "text/x-python",
   "name": "python",
   "nbconvert_exporter": "python",
   "pygments_lexer": "ipython3",
   "version": "3.6.1"
  }
 },
 "nbformat": 4,
 "nbformat_minor": 1
}
