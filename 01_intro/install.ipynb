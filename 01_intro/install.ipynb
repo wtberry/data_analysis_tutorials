{
 "cells": [
  {
   "cell_type": "markdown",
   "metadata": {
    "slideshow": {
     "slide_type": "slide"
    }
   },
   "source": [
    "<h1>Welcome to the Dark Art of Coding:</h1>\n",
    "<h2>Introduction to Python</h2>\n",
    "Installation\n",
    "\n",
    "\n",
    "<img src='../images/logos.3.600.wide.png' height='250' width='300' style=\"float:right\">"
   ]
  },
  {
   "cell_type": "markdown",
   "metadata": {
    "slideshow": {
     "slide_type": "slide"
    }
   },
   "source": [
    "# Agenda\n",
    "* Install miniconda\n",
    "* Make a virtual environment"
   ]
  },
  {
   "cell_type": "markdown",
   "metadata": {},
   "source": [
    "<img src='Anaconda_Logo.png' width='300'>\n",
    "### by Continuum Analytics\n",
    "\n",
    "* Includes Python and 100+ data analysis and science packages\n",
    "* Provides access to 620+ additional programming packages\n",
    "* Package manager >> conda\n",
    "* pandas, numpy, scipy, matplotlib, jupyter, ipython and more\n"
   ]
  },
  {
   "cell_type": "markdown",
   "metadata": {},
   "source": [
    "<img src='IPy_header.png'>\n",
    "\n",
    "* Object introspection\n",
    "* History\n",
    "* Extensible tab completion\n",
    "* Extensible system of ‘magic’ commands\n",
    "* Access to the system shell\n",
    "* Integrated access to the pdb debugger and the Python profiler"
   ]
  },
  {
   "cell_type": "markdown",
   "metadata": {},
   "source": [
    "<img src='jupyter.png' width='350'>\n",
    "\n",
    "* Incorporates IPython and all the benefits\n",
    "* Allows the incorporation of text, code, visualizations\n",
    "* Built to work seamlessly with data science libraries"
   ]
  },
  {
   "cell_type": "markdown",
   "metadata": {},
   "source": [
    "# Python Development Environments\n",
    "\n",
    "## Our starting point\n",
    "\n",
    "* **IPython** on the command prompt & a text editor\n",
    "* **Jupyter** notebooks\n",
    "\n",
    "## Good in a pinch\n",
    "\n",
    "* Python on the command prompt & a text editor\n",
    "\n",
    "## Integrated Development Environments\n",
    "\n",
    "* PyCharm\n",
    "* Spyder\n",
    "* Wingware\n",
    "* Eclipse with PyDev\n",
    "* Microsoft Visual Studio"
   ]
  },
  {
   "cell_type": "markdown",
   "metadata": {},
   "source": [
    "# Hands-on: Installing Tools\n",
    "---"
   ]
  },
  {
   "cell_type": "markdown",
   "metadata": {},
   "source": [
    "## Installing miniconda\n",
    "\n",
    "For this tutorial, we will\n",
    "\n",
    "* be using **Python version 3.6 (or thereabouts)** \n",
    "* be installing and using a number of packages/libraries, including: ipython, jupyter.\n",
    "\n",
    "The version of Python you normally use and already have installed on your computer may be different from the one we use. The libraries you already have installed may also be very different from what we will use. \n",
    "\n",
    "To minimize conflicts AND to help ensure that for troubleshooting purposes, everyone is on pretty close to the same page, we will:\n",
    "\n",
    "1. Install miniconda\n",
    "1. Create a virtual environment to separate the software and libraries we install for the purposes of the tutorial from the software/libraries you may already have installed.\n",
    "1. Install Python and the needed libraries in the virtual environment\n",
    "\n",
    "**NOTE**: IF you already have miniconda installed OR Anaconda installed, skip to the step below: **Using miniconda to create a virtualenv**"
   ]
  },
  {
   "cell_type": "markdown",
   "metadata": {},
   "source": [
    "### miniconda installation process\n",
    "\n",
    "To install miniconda, follow the instructions for your operating system in the [miniconda quickstart guide](http://conda.pydata.org/docs/install/quick.html)."
   ]
  },
  {
   "cell_type": "markdown",
   "metadata": {},
   "source": [
    "### Testing your install\n",
    "\n",
    "To confirm that the conda package manager that miniconda creates has been installed correctly:\n",
    "\n",
    "In a **command prompt/terminal** type `conda list`. If `conda` is installed properly, you will see a summary of the packages installed by conda, that looks something like this (**NOTE**: this has been simplified for clarity, your screen may have different files listed.):\n",
    "\n",
    "    jarvis:~ tonystark$ conda list\n",
    "    # packages in environment at /Users/tonystark/miniconda3:\n",
    "    #\n",
    "    conda                     4.3.14                   py35_0\n",
    "    conda-env                 2.6.0                         0\n",
    "    ipython                   5.3.0                    py35_0\n",
    "    pip                       8.1.2                    py35_0\n",
    "    python                    3.5.2                         0\n",
    "    readline                  6.2                           2\n",
    "    setuptools                23.0.0                   py35_0\n",
    "    simplegeneric             0.8.1                    py35_1\n",
    "    six                       1.10.0                   py35_0\n",
    "\n",
    "For more information on using conda, try these resources:\n",
    "\n",
    "[Using conda](http://conda.pydata.org/docs/using/index.html): A tutorial on how to use conda\n",
    "\n",
    "[conda cheatsheet](https://conda.io/docs/_downloads/conda-cheatsheet.pdf): A cheatsheet of the most common conda commands\n"
   ]
  },
  {
   "cell_type": "markdown",
   "metadata": {},
   "source": [
    "When you complete this exercise, please put your green post-it on your monitor. \n",
    "\n",
    "If you want to continue on at your own-pace, please feel free to do so.\n",
    "\n",
    "<img src='../images/green_sticky.300px.png' width='200' style='float:left'>"
   ]
  },
  {
   "cell_type": "markdown",
   "metadata": {},
   "source": [
    "# Virtual Environments\n",
    "\n",
    "* Enable you to create a standalone environment for your project\n",
    "* Minimizes conflicts between one project and another in terms of: \n",
    "  0. Python versions\n",
    "  1. Versions of other libraries that your project might depend upon"
   ]
  },
  {
   "cell_type": "markdown",
   "metadata": {},
   "source": [
    "## Using miniconda to create a virtualenv\n",
    "\n",
    "Presuming you have `conda` installed, the following command will enable you to create your first virtual environment.\n",
    "\n",
    "**Start** by navigating to a folder on your computer that you want your class projects to be kept in. In that folder, run the following commands:\n",
    "\n",
    "```bash\n",
    "$ mkdir classUH\n",
    "$ cd classUH\n",
    "$ conda create -n classUHenv python=3\n",
    "```\n",
    "\n",
    "To finish the creation of the virtualenv and install the software, press `y` for yes:\n",
    "\n",
    "```bash\n",
    "$ y\n",
    "```"
   ]
  },
  {
   "cell_type": "markdown",
   "metadata": {},
   "source": [
    "# Deep Dive\n",
    "---"
   ]
  },
  {
   "cell_type": "markdown",
   "metadata": {},
   "source": [
    "## About miniconda vs Anaconda:\n",
    "\n",
    "**Miniconda** is produced by [Continuum Analytics](https://www.continuum.io/) and gives you access to a wide variety of libraries used to perform data analytics (including, but not limited to numpy, pandas, bokeh, matplotlib, IPython, scikit learn, etc). Miniconda focuses on letting you pick and choose the libraries you want.\n",
    "\n",
    "**Anaconda**, is also produced by Continuum Analytics, AND installs by default, about 100+ data analysis libraries in one fell swoop. If you prefer to install Anaconda instead of miniconda, that is fine, just be forewarned that it can take a **considerable amount of time** AND a **lot of space** on your harddrive.\n"
   ]
  },
  {
   "cell_type": "markdown",
   "metadata": {},
   "source": [
    "## What is a virtual environment?\n",
    "\n",
    "Virtual environments (also called virtualenvs) are tools used to keep projects separate, especially in terms of keeping different Python versions separate and different library versions separate. Virtualenvs prevent Python's `site packages` folder  from getting disorganized and cluttered AND prevents problems that arise when one project needs `version x.x` of a library but another project needs `version y.y` of the same library. At their core, virtualenvs are glorified directories that use scripts and metadata to organize and control the environment. You are allowed to have an unlimited number of virtualenvs. And as you will see, they are very easy to create using the various command line tools, such as conda.\n",
    "\n",
    "## When should we use a virtual environment?\n",
    "\n",
    "As noted above, anytime you have more than one project and there is a possibility of conflicts between your libraries, it is a good time to use a virtualenv. Having said that, many programmers use virtual environments for **all but the most trivial** programming tasks. Especially for beginners, using virtualenvs early on in your learning career will build a valuable skill AND help eliminate sneaky bugs related to version discrepancies. Bugs that can be hard to diagnose.\n",
    "\n",
    "\n",
    "## Creating a virtual environment?\n",
    "\n",
    "`conda` runs the conda program.\n",
    "\n",
    "`create` tells it to create a virtualenv\n",
    "\n",
    "`-n` identifies the name of the virtualenv, in this case, `classUHenv`\n",
    "\n",
    "`python=3` tells conda that you want to install Python version 3 in this virtualenv\n",
    "\n",
    "**NOTE**: conda will default to the most recent version of Python. If you need to select a specific minor version of Python, use the following syntax:\n",
    "\n",
    "`python=3.5`\n",
    "\n",
    "Conda will prepare to install Python and any dependencies that Python relies upon. It will display output similar to the following. \n",
    "\n",
    "    jarvis:intro_to_bokeh tonystark$ conda create -n classUHenv python=3\n",
    "    Fetching package metadata .......\n",
    "    Solving package specifications: ..........\n",
    "    \n",
    "    Package plan for installation in environment /Users/tonystark/miniconda3/envs/classUHenv:\n",
    "    \n",
    "    The following packages will be downloaded:\n",
    "    \n",
    "        package                    |            build\n",
    "        ---------------------------|-----------------\n",
    "        openssl-1.0.2k             |                1         3.0 MB\n",
    "        python-3.6.0               |                0        11.7 MB\n",
    "        setuptools-27.2.0          |           py36_0         523 KB\n",
    "        wheel-0.29.0               |           py36_0          87 KB\n",
    "        pip-9.0.1                  |           py36_1         1.7 MB\n",
    "        ------------------------------------------------------------\n",
    "                                               Total:        17.0 MB\n",
    "    \n",
    "    The following NEW packages will be INSTALLED:\n",
    "    \n",
    "        openssl:    1.0.2k-1\n",
    "        pip:        9.0.1-py36_1\n",
    "        python:     3.6.0-0\n",
    "        readline:   6.2-2\n",
    "        setuptools: 27.2.0-py36_0\n",
    "        sqlite:     3.13.0-0\n",
    "        tk:         8.5.18-0\n",
    "        wheel:      0.29.0-py36_0\n",
    "        xz:         5.2.2-1\n",
    "        zlib:       1.2.8-3\n",
    "    \n",
    "    Proceed ([y]/n)?"
   ]
  },
  {
   "cell_type": "markdown",
   "metadata": {},
   "source": [
    "# Hands-on: Using your virtual environment\n",
    "---"
   ]
  },
  {
   "cell_type": "markdown",
   "metadata": {},
   "source": [
    "## Activating a virtualenv\n",
    "\n",
    "Once you have created a virtualenv, you will need to activate it. Activation has several side effects:\n",
    "\n",
    "* It temporarily changes your **$PATH variable** so calls to the Python command (and similar commands) will look first in the virtualenv's bin/ directory.\n",
    "* It temporarily changes your **shell prompt** to show which virtualenv you are using. Your prompt will likely look something like this, with the name of your virtualenv in parenthesis in front of the prompt:\n",
    "\n",
    "**Mac/Linux**: \n",
    "\n",
    "```bash\n",
    "(classUHenv) $\n",
    "```\n",
    "\n",
    "**Windows**: \n",
    "\n",
    "```bat\n",
    "(classUHenv) C:\\>\n",
    "```\n",
    "\n",
    "To activate your virtualenv, run the appropriate command for your operating system:\n",
    "\n",
    "**Mac/Linux**:\n",
    "\n",
    "```bash\n",
    "$ source activate classUHenv\n",
    "```\n",
    "\n",
    "**Windows**\n",
    "\n",
    "```bat\n",
    "C:\\> activate classUHenv\n",
    "```"
   ]
  },
  {
   "cell_type": "markdown",
   "metadata": {},
   "source": [
    "## Installing additional packages\n",
    "\n",
    "Install **two additional packages** to your virtual environment (as a suggestion, try ipython and mock) using the following command:\n",
    "\n",
    "```bash\n",
    "(classUHenv) $ conda install ipython jupyter\n",
    "```"
   ]
  },
  {
   "cell_type": "markdown",
   "metadata": {},
   "source": [
    "When you complete this exercise, please put your green post-it on your monitor. \n",
    "\n",
    "If you want to continue on at your own-pace, please feel free to do so.\n",
    "\n",
    "<img src='../images/green_sticky.300px.png' width='200' style='float:left'>"
   ]
  },
  {
   "cell_type": "markdown",
   "metadata": {},
   "source": [
    "## I already use pip... is conda necessary?\n",
    "\n",
    "Conda is a general purpose package manager with the ability to create virtual environments. Pip was designed to be a Python Package manager. Conda was designed to resolve issues associated with installing non-Python libraries into your development environment."
   ]
  },
  {
   "cell_type": "markdown",
   "metadata": {},
   "source": [
    "## I already use virtualenv or venv... is conda necessary?\n",
    "\n",
    "You **should** be able to use virtualenv or similar libraries, however, this material and the steps in this class have **NOT** been tested against those libraries, so your mileage may vary.\n",
    "\n",
    "Plus, `conda` was specifically designed to support **non-Python** libraries that you might encounter in doing data analysis, so you will probably save yourself some headaches by using `conda`.\n"
   ]
  },
  {
   "cell_type": "markdown",
   "metadata": {},
   "source": [
    "## Text editor and IPython Demos...\n"
   ]
  },
  {
   "cell_type": "markdown",
   "metadata": {},
   "source": [
    "## Jupyter Demo...\n",
    "\n",
    "In any folder with an `.ipynb` file, you can run the following command:\n",
    "\n",
    "`jupyter notebook`\n",
    "\n",
    "to provide access to notebooks like this one AND the session exercises...\n"
   ]
  },
  {
   "cell_type": "code",
   "execution_count": null,
   "metadata": {
    "collapsed": true
   },
   "outputs": [],
   "source": []
  }
 ],
 "metadata": {
  "anaconda-cloud": {},
  "celltoolbar": "Slideshow",
  "kernelspec": {
   "display_name": "Python 2",
   "language": "python",
   "name": "python2"
  },
  "language_info": {
   "codemirror_mode": {
    "name": "ipython",
    "version": 2
   },
   "file_extension": ".py",
   "mimetype": "text/x-python",
   "name": "python",
   "nbconvert_exporter": "python",
   "pygments_lexer": "ipython2",
   "version": "2.7.13"
  }
 },
 "nbformat": 4,
 "nbformat_minor": 1
}
