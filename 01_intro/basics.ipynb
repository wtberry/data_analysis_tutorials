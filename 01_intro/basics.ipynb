{
 "cells": [
  {
   "cell_type": "markdown",
   "metadata": {
    "slideshow": {
     "slide_type": "slide"
    }
   },
   "source": [
    "<h1>Welcome to the Dark Art of Coding:</h1>\n",
    "<h2>Introduction to Python</h2>\n",
    "Basics\n",
    "\n",
    "Operators, str, int, float, basic builtins\n",
    "\n",
    "<img src='../images/logos.3.600.wide.png' height='250' width='300' style=\"float:right\">"
   ]
  },
  {
   "cell_type": "markdown",
   "metadata": {
    "slideshow": {
     "slide_type": "slide"
    }
   },
   "source": [
    "# Today's main objectives\n",
    "\n",
    "You will be able to:\n",
    "\n",
    "* List several main operators and their order of precedence\n",
    "* List several key data types\n",
    "* List several builtin functions\n",
    "* Find help for yourself on how to use those functions"
   ]
  },
  {
   "cell_type": "code",
   "execution_count": null,
   "metadata": {
    "collapsed": true,
    "slideshow": {
     "slide_type": "slide"
    }
   },
   "outputs": [],
   "source": [
    ">>> 4"
   ]
  },
  {
   "cell_type": "code",
   "execution_count": null,
   "metadata": {
    "collapsed": true,
    "slideshow": {
     "slide_type": "slide"
    }
   },
   "outputs": [],
   "source": [
    ">>> 5 + 6"
   ]
  },
  {
   "cell_type": "markdown",
   "metadata": {},
   "source": [
    "# Operators\n",
    "---"
   ]
  },
  {
   "cell_type": "markdown",
   "metadata": {
    "slideshow": {
     "slide_type": "slide"
    }
   },
   "source": [
    "| Operator   | Operation     | Example   | Result   |\n",
    "|:----------:|:--------------|----------:|---------:|\n",
    "|**          |Exponent       | 2 ** 4    | 16       |\n",
    "|*           |Multiplication | 3 * 4     | 12       |\n",
    "|/           |Division       | 12 / 4    | 3        |\n",
    "|+           |Addition       | 3 + 3     | 6        |\n",
    "|-           |Subtraction    | 8 - 4     | 4        |\n"
   ]
  },
  {
   "cell_type": "markdown",
   "metadata": {
    "slideshow": {
     "slide_type": "fragment"
    }
   },
   "source": [
    "The order of operations matches the order used in mathematics.\n",
    "Parentheticals can be used to override precedence.\n"
   ]
  },
  {
   "cell_type": "code",
   "execution_count": null,
   "metadata": {
    "collapsed": true,
    "slideshow": {
     "slide_type": "fragment"
    }
   },
   "outputs": [],
   "source": [
    ">>> 1 + 2 / 3"
   ]
  },
  {
   "cell_type": "code",
   "execution_count": null,
   "metadata": {
    "collapsed": true,
    "slideshow": {
     "slide_type": "fragment"
    }
   },
   "outputs": [],
   "source": [
    ">>> (1 + 2) / 3"
   ]
  },
  {
   "cell_type": "code",
   "execution_count": null,
   "metadata": {
    "collapsed": true,
    "slideshow": {
     "slide_type": "slide"
    }
   },
   "outputs": [],
   "source": [
    ">>> ((4 - 1) * (4 + 1)) / (7 - 2)  "
   ]
  },
  {
   "cell_type": "markdown",
   "metadata": {
    "slideshow": {
     "slide_type": "fragment"
    }
   },
   "source": [
    "Example of order of precedence<br>\n",
    "\n",
    "((4 - 1) \\* (4 + 1)) / (7 - 2) <br>\n",
    "((4 - 1) \\* (4 + 1)) / 5 <br>\n",
    "(3 \\* (4 + 1)) / 5 <br>\n",
    "(3 \\* 5) / 5 <br>\n",
    "15 / 5 <br>\n",
    "3"
   ]
  },
  {
   "cell_type": "code",
   "execution_count": null,
   "metadata": {
    "collapsed": true,
    "slideshow": {
     "slide_type": "slide"
    }
   },
   "outputs": [],
   "source": [
    ">>> 42 -"
   ]
  },
  {
   "cell_type": "markdown",
   "metadata": {},
   "source": [
    "# Experience Points\n",
    "---"
   ]
  },
  {
   "cell_type": "markdown",
   "metadata": {},
   "source": [
    "## Complete the following exercises:\n",
    "\n",
    "On the **IPython interpreter** use each of the operators below to create calculations using the numbers provided. \n",
    "\n",
    "||Operator| Operands |\n",
    "|:--:|:--:|:--:|\n",
    "|1.| \\** | 3 and 5 |\n",
    "|2.|\\* | 2 and 3  | \n",
    "|3.| / |  6 and 3 |\n",
    "|4.| \\+ | 8 and 2 | \n",
    "|5.| \\- | 9 and 4 |\n",
    "\n",
    "**BONUS**: Try to combine operators and operands to create more complicated calculations, using parenthesis "
   ]
  },
  {
   "cell_type": "markdown",
   "metadata": {},
   "source": [
    "When you complete this exercise, please put your green post-it on your monitor. \n",
    "\n",
    "If you want to continue on at your own-pace, please feel free to do so.\n",
    "\n",
    "<img src='../images/green_sticky.300px.png' width='200' style='float:left'>"
   ]
  },
  {
   "cell_type": "markdown",
   "metadata": {
    "slideshow": {
     "slide_type": "slide"
    }
   },
   "source": [
    "<h1>Basic Data Types</h1>\n",
    "\n",
    "Data Type | Examples | Name\n",
    "----------|----------|-------\n",
    "Integers  |  -10, 0, 1, 2, 3 | int\n",
    "Floating point numbers | -10.0, 0.0, 1.1, 2.1, 3.7 | float\n",
    "Strings   | 'x', 'aloha', 'world', 'PyHawaii', '42', '5.55' | str"
   ]
  },
  {
   "cell_type": "code",
   "execution_count": null,
   "metadata": {
    "collapsed": true,
    "slideshow": {
     "slide_type": "slide"
    }
   },
   "outputs": [],
   "source": [
    ">>> 'Aloha' + 'World'"
   ]
  },
  {
   "cell_type": "code",
   "execution_count": null,
   "metadata": {
    "collapsed": true,
    "slideshow": {
     "slide_type": "slide"
    }
   },
   "outputs": [],
   "source": [
    ">>> 'Py' + 7"
   ]
  },
  {
   "cell_type": "code",
   "execution_count": null,
   "metadata": {
    "collapsed": true,
    "slideshow": {
     "slide_type": "slide"
    }
   },
   "outputs": [],
   "source": [
    ">>> '-' * 60"
   ]
  },
  {
   "cell_type": "code",
   "execution_count": null,
   "metadata": {
    "collapsed": true,
    "slideshow": {
     "slide_type": "fragment"
    }
   },
   "outputs": [],
   "source": [
    ">>> 'Py' * 'Hawaii'"
   ]
  },
  {
   "cell_type": "markdown",
   "metadata": {},
   "source": [
    "# Experience Points\n",
    "---"
   ]
  },
  {
   "cell_type": "markdown",
   "metadata": {},
   "source": [
    "## Complete the following exercises:\n",
    "\n",
    "On the **IPython interpreter** create the following data types:\n",
    "\n",
    "Data type | Values\n",
    "----|----\n",
    "integers | `-10, 0, and 42`\n",
    "floating point numbers | `-10.0, 0.1, 42.0, and 3.7`\n",
    "strings | `'x', 'aloha', and 'Dark art of coding'`"
   ]
  },
  {
   "cell_type": "markdown",
   "metadata": {},
   "source": [
    "<img src='../images/green_sticky.300px.png' width='200' style='float:left'>"
   ]
  },
  {
   "cell_type": "markdown",
   "metadata": {},
   "source": [
    "# Variables\n",
    "---"
   ]
  },
  {
   "cell_type": "code",
   "execution_count": null,
   "metadata": {
    "collapsed": true,
    "slideshow": {
     "slide_type": "slide"
    }
   },
   "outputs": [],
   "source": [
    "ip_addresses = 101\n",
    "ip_addresses"
   ]
  },
  {
   "cell_type": "code",
   "execution_count": null,
   "metadata": {
    "collapsed": true,
    "slideshow": {
     "slide_type": "fragment"
    }
   },
   "outputs": [],
   "source": [
    "ip_addresses + 10"
   ]
  },
  {
   "cell_type": "code",
   "execution_count": null,
   "metadata": {
    "collapsed": true,
    "slideshow": {
     "slide_type": "fragment"
    }
   },
   "outputs": [],
   "source": [
    "hosts = 5\n",
    "ip_addresses + hosts"
   ]
  },
  {
   "cell_type": "code",
   "execution_count": null,
   "metadata": {
    "collapsed": true,
    "slideshow": {
     "slide_type": "slide"
    }
   },
   "outputs": [],
   "source": [
    "hostname = 'bruces_laptop'\n",
    "vehicle = 'batmobile'"
   ]
  },
  {
   "cell_type": "markdown",
   "metadata": {
    "slideshow": {
     "slide_type": "fragment"
    }
   },
   "source": [
    "## Valid variable names\n",
    "\n",
    "name <br> \n",
    "className <br>\n",
    "class_name <br>\n",
    "\\_name <br>\n",
    "NAME <br>\n",
    "nam3 <br>"
   ]
  },
  {
   "cell_type": "markdown",
   "metadata": {},
   "source": [
    "# Experience Points\n",
    "---"
   ]
  },
  {
   "cell_type": "markdown",
   "metadata": {},
   "source": [
    "## Complete the following exercises:\n",
    "\n",
    "On the **IPython interpreter** create a series of variables as listed below (feel free to swap out alternate values as you desire):\n",
    "\n",
    "\n",
    "Variable label | Variable value\n",
    "----------|----------\n",
    "age  | 42 \n",
    "tool | 'nikto' \n",
    "name | 'bruce wayne'\n",
    "alias | 'batman'\n",
    "os | 'OS X'\n",
    "pi | 3.14"
   ]
  },
  {
   "cell_type": "markdown",
   "metadata": {},
   "source": [
    "## Complete the following exercises:\n",
    "\n",
    "On the **IPython interpreter** complete the following exercises (feel free to swap out alternate values as you desire):\n",
    "\n",
    "\n",
    "Task | Operator | Operands \n",
    "----------|:----------:|-----\n",
    "concatenate  | + | 'diana' and 'prince'\n",
    "multiply | * | 'kara' and 10"
   ]
  },
  {
   "cell_type": "markdown",
   "metadata": {},
   "source": [
    "<img src='../images/green_sticky.300px.png' width='200' style='float:left'>"
   ]
  },
  {
   "cell_type": "markdown",
   "metadata": {
    "slideshow": {
     "slide_type": "slide"
    }
   },
   "source": [
    "<h1>Builtin Functions</h1>\n",
    "<h2>Python comes with a collection of functions to help you handle common tasks</h2>\n",
    "\n",
    "<h3>So, what are functions?</h3>\n",
    "<ol>\n",
    "    <li>short self-contained snippets of code</li>\n",
    "    <li>typically designed to solve a single problem or related set of problems</li>\n",
    "    <li>often accept inputs and produce outputs</li>\n",
    "    <li>referred to by name</li>\n",
    "</ol>"
   ]
  },
  {
   "cell_type": "code",
   "execution_count": null,
   "metadata": {
    "collapsed": true,
    "slideshow": {
     "slide_type": "slide"
    }
   },
   "outputs": [],
   "source": [
    "print('Aloha Hawaii')\n",
    "print()\n",
    "print('How old are you?')                        "
   ]
  },
  {
   "cell_type": "code",
   "execution_count": null,
   "metadata": {
    "collapsed": true,
    "slideshow": {
     "slide_type": "slide"
    }
   },
   "outputs": [],
   "source": [
    "help(print)"
   ]
  },
  {
   "cell_type": "markdown",
   "metadata": {
    "slideshow": {
     "slide_type": "slide"
    }
   },
   "source": [
    "Let's make note of some semi-standard conventions:\n",
    "\n",
    "* Basic usage is outlined near the top\n",
    "* All the possible arguments are listed with any default values\n",
    "* Ellipsis, in this case means you can have as many values as you like\n",
    "* Items with default values are essentially optional\n",
    "\n",
    "\n",
    "    Help on built-in function print in module builtins:\n",
    "\n",
    "    print(...)\n",
    "        print(value, ..., sep=' ', end='\\n', file=sys.stdout, flush=False)\n",
    "\n",
    "        Prints the values to a stream, or to sys.stdout by default.\n",
    "        Optional keyword arguments:\n",
    "        file:  a file-like object (stream); defaults to the current sys.stdout.\n",
    "        sep:   string inserted between values, default a space.\n",
    "        end:   string appended after the last value, default a newline.\n",
    "        flush: whether to forcibly flush the stream.\n"
   ]
  },
  {
   "cell_type": "markdown",
   "metadata": {},
   "source": [
    "When using IPython, there is an easier syntax to get help\n",
    "\n",
    "`print?`"
   ]
  },
  {
   "cell_type": "code",
   "execution_count": null,
   "metadata": {
    "collapsed": true,
    "slideshow": {
     "slide_type": "slide"
    }
   },
   "outputs": [],
   "source": [
    "food = input()\n",
    "my_favorite_food = input('What is your favorite food? ')\n"
   ]
  },
  {
   "cell_type": "code",
   "execution_count": null,
   "metadata": {
    "collapsed": true,
    "slideshow": {
     "slide_type": "slide"
    }
   },
   "outputs": [],
   "source": [
    ">>> print('I also love: ' + my_favorite_food)"
   ]
  },
  {
   "cell_type": "code",
   "execution_count": null,
   "metadata": {
    "collapsed": true,
    "slideshow": {
     "slide_type": "slide"
    }
   },
   "outputs": [],
   "source": [
    ">>> len('PyHawaii')"
   ]
  },
  {
   "cell_type": "code",
   "execution_count": null,
   "metadata": {
    "collapsed": true,
    "slideshow": {
     "slide_type": "fragment"
    }
   },
   "outputs": [],
   "source": [
    ">>> len(my_favorite_food)"
   ]
  },
  {
   "cell_type": "code",
   "execution_count": null,
   "metadata": {
    "collapsed": true,
    "slideshow": {
     "slide_type": "slide"
    }
   },
   "outputs": [],
   "source": [
    ">>> str(5)"
   ]
  },
  {
   "cell_type": "code",
   "execution_count": null,
   "metadata": {
    "collapsed": true,
    "scrolled": true,
    "slideshow": {
     "slide_type": "fragment"
    }
   },
   "outputs": [],
   "source": [
    ">>> str(-42)"
   ]
  },
  {
   "cell_type": "code",
   "execution_count": null,
   "metadata": {
    "collapsed": true,
    "slideshow": {
     "slide_type": "slide"
    }
   },
   "outputs": [],
   "source": [
    ">>> int('-42')"
   ]
  },
  {
   "cell_type": "markdown",
   "metadata": {
    "slideshow": {
     "slide_type": "slide"
    }
   },
   "source": [
    "Let's look at another:\n",
    "\n",
    "* Basic usage outlined near the top\n",
    "* Slightly different way to show usage and optional elements\n",
    "* x is optional in the first usage pattern\n",
    "* x is required in the second usage pattern\n",
    "* '->' indicates that the function returns a value, which can be saved for later\n",
    "\n",
    "\n",
    "    class int(object)\n",
    "     |  int(x=0) -> integer\n",
    "     |  int(x, base=10) -> integer\n",
    "     |\n",
    "     |  Convert a number or string to an integer, or return 0 if no arguments\n",
    "     |  are given.  If x is a number, return x.__int__().  For floating point\n",
    "     |  numbers, this truncates towards zero.\n",
    "     |\n",
    "     |  If x is not a number or if base is given, then x must be a string,\n",
    "     |  bytes, or bytearray instance representing an integer literal in the\n",
    "     |  given base.  The literal can be preceded by '+' or '-' and be surrounded\n",
    "     |  by whitespace.  The base defaults to 10.  Valid bases are 0 and 2-36.\n",
    "     |  Base 0 means to interpret the base from the string as an integer literal.\n",
    "     |  >>> int('0b100', base=0)\n",
    "     |  4"
   ]
  },
  {
   "cell_type": "code",
   "execution_count": null,
   "metadata": {
    "collapsed": true,
    "slideshow": {
     "slide_type": "fragment"
    }
   },
   "outputs": [],
   "source": [
    ">>> int(42.11)"
   ]
  },
  {
   "cell_type": "code",
   "execution_count": null,
   "metadata": {
    "collapsed": true,
    "slideshow": {
     "slide_type": "fragment"
    }
   },
   "outputs": [],
   "source": [
    ">>> int(41.95)"
   ]
  },
  {
   "cell_type": "code",
   "execution_count": null,
   "metadata": {
    "collapsed": true,
    "slideshow": {
     "slide_type": "slide"
    }
   },
   "outputs": [],
   "source": [
    ">>> float(42.11)"
   ]
  },
  {
   "cell_type": "code",
   "execution_count": null,
   "metadata": {
    "collapsed": true,
    "slideshow": {
     "slide_type": "fragment"
    }
   },
   "outputs": [],
   "source": [
    ">>> float(41.95)"
   ]
  },
  {
   "cell_type": "code",
   "execution_count": null,
   "metadata": {
    "collapsed": true,
    "slideshow": {
     "slide_type": "slide"
    }
   },
   "outputs": [],
   "source": [
    ">>> 13 == '13'"
   ]
  },
  {
   "cell_type": "code",
   "execution_count": null,
   "metadata": {
    "collapsed": true,
    "slideshow": {
     "slide_type": "fragment"
    }
   },
   "outputs": [],
   "source": [
    ">>> 13.0 == 13"
   ]
  },
  {
   "cell_type": "markdown",
   "metadata": {},
   "source": [
    "# Experience Points\n",
    "---"
   ]
  },
  {
   "cell_type": "markdown",
   "metadata": {},
   "source": [
    "## Complete the following exercises:"
   ]
  },
  {
   "cell_type": "markdown",
   "metadata": {},
   "source": [
    "In your **text editor** create a simple script called `my_basics.py` to do each of the following steps.\n",
    "\n",
    "Execute your script in the **IPython interpreter** using the command `run my_basics.py`.\n",
    "\n",
    "I suggest that as you add each feature to your script that you run it right away to test it incrementally. \n",
    "\n",
    "1. `print()` your name \n",
    "\n",
    "1. `print()` a blank line\n",
    "\n",
    "1. Convert a numeric string (i.e. '13') to an integer AND save it with the label: `myinteger`.\n",
    "\n",
    "1. `print()` the variable `myinteger`.\n",
    "\n",
    "1. Use `input()` to prompt for your first name AND save it with the label: `fname`.\n",
    "\n",
    "1. Calculate the length of `fname` AND save it with the label: `length`.\n",
    "\n",
    "1. `print()` the variable `length`.\n",
    "\n",
    "1. Convert a negative number to a str AND save it with the label: `neg_number`.\n",
    "\n",
    "1. Convert a float to an integer AND save it with the label: `flt_number`.\n",
    "\n",
    "1. Test two strings, `wireshark` and `metasploit`, for equality AND save the result with the label: `comparison`.\n",
    "\n",
    "1. `print()` the variable `comparison`."
   ]
  },
  {
   "cell_type": "markdown",
   "metadata": {},
   "source": [
    "<img src='../images/green_sticky.300px.png' width='200' style='float:left'>"
   ]
  },
  {
   "cell_type": "markdown",
   "metadata": {
    "collapsed": true
   },
   "source": [
    "# Comments\n",
    "---"
   ]
  },
  {
   "cell_type": "markdown",
   "metadata": {},
   "source": [
    "There are three commonly accepted ways to create comments in Python:\n",
    "\n",
    "### Line starting with a hashtag    \n",
    "    \n",
    "```python    \n",
    "# comment: blah, blah, blah\n",
    "```\n",
    "\n",
    "### Text on any line, following a hashtag\n",
    "\n",
    "```python\n",
    "print('hello')            # comment: blah, blah, blah\n",
    "```\n",
    "\n",
    "### Text contained in triple quotes.\n",
    "\n",
    "```python\n",
    "'''\n",
    "multiline\n",
    "comment\n",
    "blah\n",
    "blah\n",
    "blah\n",
    "'''\n",
    "```"
   ]
  },
  {
   "cell_type": "code",
   "execution_count": null,
   "metadata": {
    "collapsed": true
   },
   "outputs": [],
   "source": []
  }
 ],
 "metadata": {
  "anaconda-cloud": {},
  "celltoolbar": "Slideshow",
  "kernelspec": {
   "display_name": "Python 3",
   "language": "python",
   "name": "python3"
  },
  "language_info": {
   "codemirror_mode": {
    "name": "ipython",
    "version": 3
   },
   "file_extension": ".py",
   "mimetype": "text/x-python",
   "name": "python",
   "nbconvert_exporter": "python",
   "pygments_lexer": "ipython3",
   "version": "3.6.1"
  }
 },
 "nbformat": 4,
 "nbformat_minor": 1
}
