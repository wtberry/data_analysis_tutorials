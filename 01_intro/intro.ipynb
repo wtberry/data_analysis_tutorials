{
 "cells": [
  {
   "cell_type": "markdown",
   "metadata": {
    "slideshow": {
     "slide_type": "slide"
    }
   },
   "source": [
    "# Welcome to the Dark Art of Coding:\n",
    "## Introduction to Python\n",
    "Intro to the class\n",
    "\n",
    "<img src='../images/dark_art_logo.600px.png' height='250' width='300' style=\"float:right\">"
   ]
  },
  {
   "cell_type": "markdown",
   "metadata": {
    "slideshow": {
     "slide_type": "slide"
    }
   },
   "source": [
    "<h1>Your instructor:</h1>\n",
    "<h2>Chalmer Lowe</h2>\n"
   ]
  },
  {
   "cell_type": "markdown",
   "metadata": {
    "slideshow": {
     "slide_type": "slide"
    }
   },
   "source": [
    "<h1>Agenda</h1>\n",
    "<ul>\n",
    "<li><strong>Class structure</strong></li>\n",
    "<li><strong>Why Python?</strong></li>\n",
    "<li><strong>How to learn programming</strong></li>\n",
    "<li><strong>Details on my favorite book</strong></li>\n",
    "<li><strong>Today's Learning objectives</strong></li>\n",
    "</ul>"
   ]
  },
  {
   "cell_type": "markdown",
   "metadata": {
    "slideshow": {
     "slide_type": "subslide"
    }
   },
   "source": [
    "<h1>Class structure and reasons for it</h1>\n",
    "<ul>\n",
    "<li>Pair programming</li>\n",
    "<li>Lectures and demos</li>\n",
    "<li>In-class coding/mentoring</li>\n",
    "<li>\"Help Me\" post-its</li>\n",
    "</ul>"
   ]
  },
  {
   "cell_type": "markdown",
   "metadata": {
    "slideshow": {
     "slide_type": "subslide"
    }
   },
   "source": [
    "<h1>Why Python?</h1>\n",
    "\n",
    "A brief history...\n"
   ]
  },
  {
   "cell_type": "markdown",
   "metadata": {
    "slideshow": {
     "slide_type": "subslide"
    }
   },
   "source": [
    "<img src='python_users.png'>"
   ]
  },
  {
   "cell_type": "markdown",
   "metadata": {
    "slideshow": {
     "slide_type": "subslide"
    }
   },
   "source": [
    "<h1>What is it used for?</h1>\n",
    "<ul>\n",
    "<li>System administration</li>\n",
    "<li>Web development</li>\n",
    "<li>App development</li>\n",
    "<li>Computer-generated graphics</li>\n",
    "<li>Data science</li>\n",
    "<li>Data visualization</li>\n",
    "<li>and more</li>\n",
    "</ul>"
   ]
  },
  {
   "cell_type": "markdown",
   "metadata": {
    "slideshow": {
     "slide_type": "subslide"
    }
   },
   "source": [
    "<h1>Pros and Cons</h1> \n",
    "<ul>\n",
    "<li>Benefits</li>\n",
    "<li>Disadvantages</li>\n",
    "</ul>"
   ]
  },
  {
   "cell_type": "markdown",
   "metadata": {
    "slideshow": {
     "slide_type": "slide"
    }
   },
   "source": [
    "<h1>How to learn</h1>\n",
    "<img src='changing_stuff.jpg' width='350'>\n"
   ]
  },
  {
   "cell_type": "markdown",
   "metadata": {
    "slideshow": {
     "slide_type": "subslide"
    }
   },
   "source": [
    "<h1>How to learn, part 2</h1>\n",
    "<ul>\n",
    "<li>Projects</li>\n",
    "<ul>\n",
    "  <li>Find something that you are so passionate about, that you can't wait to get back to writing code!</li>\n",
    "  <li>Website, app, script, DIY project, etc</li>\n",
    "</ul>\n",
    "<li>Puzzles</li>\n",
    "<ul>\n",
    "<li>https://darkartofcoding.com/learning-resources/learning-resources-puzzles/ >>> **https://goo.gl/A6kbMC**</li>\n",
    "<li>Games, competitions, etc</li>\n",
    "</ul>\n",
    "<li>A learning resource (book, classes, videos, etc)</li>\n",
    "<li>Documentation/help files</li>\n",
    "<li>**Write code!**</li>\n",
    "</ul>"
   ]
  },
  {
   "cell_type": "markdown",
   "metadata": {
    "collapsed": true,
    "slideshow": {
     "slide_type": "subslide"
    }
   },
   "source": [
    "<h1>Watch out for this!</h1>\n",
    "<img src='anxiety-boredom-3.png' width='400'>"
   ]
  },
  {
   "cell_type": "markdown",
   "metadata": {
    "collapsed": true,
    "slideshow": {
     "slide_type": "subslide"
    }
   },
   "source": [
    "<h1>And this!</h1>\n",
    "Do not give up."
   ]
  },
  {
   "cell_type": "markdown",
   "metadata": {
    "slideshow": {
     "slide_type": "slide"
    }
   },
   "source": [
    "<h1>My favorite book!</h1>\n",
    "\n",
    "<ul>\n",
    "    <li><a href='http://www.amazon.com/Automate-Boring-Stuff-Python-Programming-ebook/dp/B00WJ049VU/ref=dp_kinw_strp_1'>Automate the Boring Stuff with Python</a></li>\n",
    "    <li>You can learn more about many of the topics in this class from the book</li>\n",
    "        <ul>\n",
    "            <li>Chaps. 1-6 >>> the basics</li>\n",
    "            <li>Select Topics from Chaps. 7-18 >>> automating things</li>\n",
    "        </ul>\n",
    "    <li>Gotchas in the book...</li>\n",
    "</ul>"
   ]
  },
  {
   "cell_type": "markdown",
   "metadata": {
    "slideshow": {
     "slide_type": "slide"
    }
   },
   "source": [
    "<h1>Today's main objectives</h1>\n",
    "\n",
    "You will be able to:\n",
    "<ul>\n",
    "    <li>Explain the benefits of using Anaconda, IPython & Jupyter as your Python environment</li>\n",
    "    <li>Use IPython & Jupyter to execute code</li>\n",
    "    <li>Use a text editor to create scripts and IPython to execute the script</li>\n",
    "    <li>List several main operators and their order of precedence</li>\n",
    "    <li>List several key data types</li>\n",
    "    <li>List several builtin functions</li>\n",
    "    <li>Find help for yourself on how to use those functions</li>\n",
    "</ul>"
   ]
  },
  {
   "cell_type": "code",
   "execution_count": null,
   "metadata": {
    "collapsed": true
   },
   "outputs": [],
   "source": []
  }
 ],
 "metadata": {
  "anaconda-cloud": {},
  "celltoolbar": "Slideshow",
  "kernelspec": {
   "display_name": "Python [default]",
   "language": "python",
   "name": "python3"
  },
  "language_info": {
   "codemirror_mode": {
    "name": "ipython",
    "version": 3
   },
   "file_extension": ".py",
   "mimetype": "text/x-python",
   "name": "python",
   "nbconvert_exporter": "python",
   "pygments_lexer": "ipython3",
   "version": "3.5.3"
  }
 },
 "nbformat": 4,
 "nbformat_minor": 1
}
