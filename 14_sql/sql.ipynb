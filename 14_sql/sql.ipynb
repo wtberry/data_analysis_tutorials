{
 "cells": [
  {
   "cell_type": "markdown",
   "metadata": {},
   "source": [
    "# Welcome to the Dark Art of Coding:\n",
    "## Introduction to Python\n",
    "SQL\n",
    "\n",
    "<img src='../images/dark_art_logo.600px.png' width='300' style=\"float:right\">"
   ]
  },
  {
   "cell_type": "markdown",
   "metadata": {},
   "source": [
    "# Objectives\n",
    "---"
   ]
  },
  {
   "cell_type": "markdown",
   "metadata": {},
   "source": [
    "In this session, students should expect to:\n",
    "\n",
    "* Understand what SQL is used for\n",
    "* Understand the basics of the SQL syntax\n",
    "* Understand high level principals of relational databases\n",
    "* Understand how Python and SQL interoperate\n",
    "   * How to create a database\n",
    "   * How to add data to a database\n",
    "   * How to update data\n",
    "   * How to delete data\n",
    "   * How to select data from the database\n",
    "   "
   ]
  },
  {
   "cell_type": "markdown",
   "metadata": {},
   "source": [
    "# SQLITE Module\n",
    "---"
   ]
  },
  {
   "cell_type": "markdown",
   "metadata": {},
   "source": [
    "ACID:\n",
    "* **Atomicity**: all or nothing\n",
    "* **Consistency**: no transaction will break any rules of the database (constraints, cascades, triggers) \n",
    "* **Isolation**: concurrent execution will yield the same result as serial execution\n",
    "* **Durability**: upon commit, transactions will remain despite error\n"
   ]
  },
  {
   "cell_type": "code",
   "execution_count": null,
   "metadata": {
    "collapsed": true
   },
   "outputs": [],
   "source": [
    "# First we want to import the SQL module and make a connection to a database\n",
    "\n",
    "import sqlite3\n",
    "conn = sqlite3.connect('first.db')"
   ]
  },
  {
   "cell_type": "code",
   "execution_count": null,
   "metadata": {},
   "outputs": [],
   "source": [
    "# Let's see what data type we have:\n",
    "\n",
    "print('This object is a:', type(conn))"
   ]
  },
  {
   "cell_type": "markdown",
   "metadata": {},
   "source": [
    "Let's see what we can do with it:\n",
    "using tab completion\n",
    "\n",
    "```python\n",
    "conn.<tab complete>\n",
    "```"
   ]
  },
  {
   "cell_type": "code",
   "execution_count": null,
   "metadata": {
    "collapsed": true
   },
   "outputs": [],
   "source": [
    "conn."
   ]
  },
  {
   "cell_type": "code",
   "execution_count": null,
   "metadata": {
    "collapsed": true
   },
   "outputs": [],
   "source": [
    "# Our next major step is to create a cursor\n",
    "#     Cursors are a sort of \"pointer\" that lets \n",
    "#     us perform inquiries (as well as other things)\n",
    "\n",
    "cur = conn.cursor()"
   ]
  },
  {
   "cell_type": "code",
   "execution_count": null,
   "metadata": {},
   "outputs": [],
   "source": [
    "# As always, let's explore this new object\n",
    "\n",
    "print('This object is a:', type(cur))"
   ]
  },
  {
   "cell_type": "markdown",
   "metadata": {},
   "source": [
    "Let's see what we can do with it:\n",
    "using tab completion\n",
    "\n",
    "```python\n",
    "cur.<tab complete>\n",
    "```"
   ]
  },
  {
   "cell_type": "code",
   "execution_count": null,
   "metadata": {
    "collapsed": true
   },
   "outputs": [],
   "source": [
    "cur."
   ]
  },
  {
   "cell_type": "code",
   "execution_count": null,
   "metadata": {
    "collapsed": true
   },
   "outputs": [],
   "source": [
    "# NOTE: as with many other file types, once we \n",
    "#     finish interacting with our database we\n",
    "#     generally need to finalize our changes, ie. *.commit() them\n",
    "#     and *.close() our connection to the database.\n",
    "\n",
    "conn.commit()\n",
    "conn.close()"
   ]
  },
  {
   "cell_type": "markdown",
   "metadata": {},
   "source": [
    "# Adding data to a SQL database \n",
    "---"
   ]
  },
  {
   "cell_type": "code",
   "execution_count": null,
   "metadata": {
    "collapsed": true
   },
   "outputs": [],
   "source": [
    "import sqlite3\n",
    "conn = sqlite3.connect('data.db') \n",
    "\n",
    "# NOTE: Your connection does not need to be \n",
    "#     named conn. It is just a commonly used name"
   ]
  },
  {
   "cell_type": "markdown",
   "metadata": {},
   "source": [
    "* From now on we'll be using **two separate** syntaxes\n",
    "    * **Python syntax** for how we interface with the database and send SQL commands\n",
    "    * **SQL syntax** to actually insert, modify, and query data\n",
    "* These are two separate languages\n",
    "* There is a learning curve for each language\n",
    "* If you learn SQL commands you can generally speak to any SQL-based database\n",
    "\n",
    "NOTE: if you prefer to stick to pure Python, there are Python libraries that enable you to replicate these SQL statements with straight Python, but that is a story for another day: SQLAlchemy is one such tool."
   ]
  },
  {
   "cell_type": "markdown",
   "metadata": {},
   "source": [
    "## Create a table"
   ]
  },
  {
   "cell_type": "code",
   "execution_count": null,
   "metadata": {
    "collapsed": true
   },
   "outputs": [],
   "source": [
    "# First let's make a SQL command string to\n",
    "#     create our first table\n",
    "#     with specific columns and set the data type\n",
    "#     that will be stored in the columns:\n",
    "#     text, integer, etc\n",
    "\n",
    "sql = '''CREATE TABLE customers (first name text,\n",
    "                                 last name text,\n",
    "                                 email text,\n",
    "                                 age integer)'''\n",
    "\n",
    "# NOTE: It is not necessary to make the string beforehand\n",
    "# however it can be helpful and often improves the \n",
    "# readability of your code to have the SQL syntax separated\n",
    "# from the Python syntax"
   ]
  },
  {
   "cell_type": "code",
   "execution_count": null,
   "metadata": {
    "collapsed": true
   },
   "outputs": [],
   "source": [
    "# Now let's try and run this bit of SQL code\n",
    "\n",
    "try:\n",
    "    conn.execute(sql)\n",
    "except:\n",
    "    pass\n",
    "\n",
    "# NOTE: in this case, I am using a syntax\n",
    "#     called try/except so my script won't\n",
    "#     crash if the table already exists\n",
    "#     You may not need to do this..."
   ]
  },
  {
   "cell_type": "markdown",
   "metadata": {},
   "source": [
    "## Inserting data (manually)"
   ]
  },
  {
   "cell_type": "code",
   "execution_count": null,
   "metadata": {},
   "outputs": [],
   "source": [
    "# This next bit of SQL syntax adds a row of data to \n",
    "#     our database\n",
    "#\n",
    "# This time we put the SQL syntax directly in the \n",
    "#     the Python function. This works, but may or\n",
    "#     may not impact the readability of your code\n",
    "# \n",
    "# The INSERT command identifies which table to insert\n",
    "#     the data into AND then the values that should be \n",
    "#     inserted. Here we use four question marks as \n",
    "#     template placeholders for the actual values\n",
    "#     which are provided in the adjacent tuple\n",
    "#     Using the question marks can improve readability\n",
    "#     and increase security. DO IT.\n",
    "\n",
    "conn.execute('INSERT INTO customers VALUES (?, ?, ?, ?)',\n",
    "             ('Bruce', 'Wayne', 'bwayne@jleague.org', 35))\n"
   ]
  },
  {
   "cell_type": "code",
   "execution_count": null,
   "metadata": {},
   "outputs": [],
   "source": [
    "# This step of adding data to a table can be\n",
    "#     broken up into two parts to increase readability\n",
    "\n",
    "# Create the SQL statement to insert data \n",
    "#     into the table we made earlier \"customers\"\n",
    "insert = 'INSERT INTO customers VALUES (?, ?, ?, ?)'\n",
    "\n",
    "# Use Python to execute the SQL statement and give it some values to put in place of the question marks\n",
    "conn.execute(insert, ('Selina', 'Kyle', 'catwoman@jleague.org', 38))"
   ]
  },
  {
   "cell_type": "markdown",
   "metadata": {},
   "source": [
    "## Inserting data (automagically)"
   ]
  },
  {
   "cell_type": "code",
   "execution_count": null,
   "metadata": {
    "collapsed": true
   },
   "outputs": [],
   "source": [
    "# Building databases by hand is tedious. \n",
    "# Let's look at a way we can build a \n",
    "# different database from a csv file\n",
    "\n",
    "conn = sqlite3.connect('customers.db')"
   ]
  },
  {
   "cell_type": "code",
   "execution_count": null,
   "metadata": {
    "collapsed": true
   },
   "outputs": [],
   "source": [
    "# Let's create the table in our SQL database now\n",
    "\n",
    "sql = '''CREATE TABLE customers (cust_id integer,\n",
    "                                 first_name text,\n",
    "                                 last_name text,\n",
    "                                 email text,\n",
    "                                 age integer)'''\n",
    "\n",
    "try:\n",
    "    conn.execute(sql)\n",
    "except:\n",
    "    pass"
   ]
  },
  {
   "cell_type": "code",
   "execution_count": null,
   "metadata": {
    "collapsed": true
   },
   "outputs": [],
   "source": [
    "fin = open('customers.csv', 'r')\n",
    "\n",
    "fin.readline()   # Read/eliminate header row\n",
    "\n",
    "# Now we take our remaining csv data and add \n",
    "#     it to our SQL database\n",
    "\n",
    "for line in fin:\n",
    "    cust_id, fname, lname, email, age = line.strip().split(',')\n",
    "    \n",
    "    # Each set of fields can be inserted into the table, \n",
    "    #     as we iterate through the for loop\n",
    "    conn.execute('INSERT INTO customers VALUES (?, ?, ?, ?, ?)',\n",
    "                 (cust_id, fname, lname, email, age))"
   ]
  },
  {
   "cell_type": "markdown",
   "metadata": {},
   "source": [
    "# Retrieving data from a SQL database\n",
    "---"
   ]
  },
  {
   "cell_type": "markdown",
   "metadata": {},
   "source": [
    "To get data from a database we will use a cursor\n",
    "* The `.cursor()` method is associated with the connection we make it on\n",
    "* Let's take a look at the code in the following code cell\n",
    "    * The `SELECT` statement is straight SQL syntax\n",
    "    * It is intended to be relatively intuitive:\n",
    "        * `SELECT all records FROM the customers table`\n",
    "        * IN SQL, the `*` is a wildcard \n",
    "    * When the SQL is executed it returns a collection of all the records that meet any criteria\n",
    "    * The for loop in Python then lets you iterate over the collection of items"
   ]
  },
  {
   "cell_type": "code",
   "execution_count": null,
   "metadata": {},
   "outputs": [],
   "source": [
    "cur = conn.cursor()   # Create the cursor\n",
    "\n",
    "# Run the SQL code and use the for loop to\n",
    "#     iterate through the resulting rows\n",
    "for row in cur.execute('SELECT * FROM customers'):        \n",
    "    print(row)\n"
   ]
  },
  {
   "cell_type": "markdown",
   "metadata": {},
   "source": [
    "# Experience Points!\n",
    "---"
   ]
  },
  {
   "cell_type": "markdown",
   "metadata": {},
   "source": [
    "In your **text editor** create a simple script called:\n",
    "\n",
    "```bash\n",
    "my_sql_01.py```\n",
    "\n",
    "Execute your script in the **IPython interpreter** using the command:\n",
    "\n",
    "```python\n",
    "run my_sql_01.py```\n",
    "\n",
    "I suggest that as you add each feature to your script that you run it right away to test it incrementally. \n",
    "\n",
    "1. Create a connection to a database. Call the database: `my_first_sql.db`\n",
    "1. Create a table called stocks: include only the following columns AND assign the given datatypes:\n",
    "\n",
    "|||\n",
    "|:---|:---|\n",
    "|symbol|text|\n",
    "|date|date|\n",
    "|open_price|float|\n",
    "|close|float|\n",
    "|volume|integer|\n",
    "\n",
    "Populate the data:\n",
    "1. Create a filehandle for the file `AMEX_daily_prices_N.csv`\n",
    "1. Create a SQL statement that will allow you to insert content from the csv into stocks\n",
    "1. For every line in the csv, execute your insert SQL statement\n",
    "\n",
    "Retrieve the data:\n",
    "1. Create a cursor\n",
    "1. Create a SQL statement to query the database for all columns from the stocks table\n",
    "1. For every row of returned results, print that row"
   ]
  },
  {
   "cell_type": "markdown",
   "metadata": {},
   "source": [
    "When you complete this exercise, please put your green post-it on your monitor. \n",
    "\n",
    "If you want to continue on at your own-pace, please feel free to do so.\n",
    "\n",
    "<img src='../images/green_sticky.300px.png' width='200' style='float:left'>"
   ]
  },
  {
   "cell_type": "code",
   "execution_count": null,
   "metadata": {},
   "outputs": [],
   "source": [
    "# Sometimes we only need data from certain columns:\n",
    "\n",
    "for row in cur.execute('SELECT email, age FROM customers'):\n",
    "    print(row)"
   ]
  },
  {
   "cell_type": "code",
   "execution_count": null,
   "metadata": {},
   "outputs": [],
   "source": [
    "# If we know we're taking multiple things from the table we can use some tuple unpacking in our for loop\n",
    "\n",
    "for email, age in cur.execute('SELECT email, age FROM customers'):\n",
    "    print('Email:', email, '\\tAge:',age)"
   ]
  },
  {
   "cell_type": "code",
   "execution_count": null,
   "metadata": {},
   "outputs": [],
   "source": [
    "# Let's put some more data into our table\n",
    "\n",
    "ins3 = 'INSERT INTO customers VALUES (?, ?, ?, ?, ?)'\n",
    "cur.execute(ins3, (5, 'Kara', 'Zor-el', 'kzorel@krypton.org', 33))"
   ]
  },
  {
   "cell_type": "code",
   "execution_count": null,
   "metadata": {},
   "outputs": [],
   "source": [
    "# SQL syntax allows us to filter for certain rows as well as columns using the WHERE keyword\n",
    "# NOTE: SQL syntax and Python syntax are different. SQL uses a single '=' to check for equality where python uses two\n",
    "# They are different syntaxes and we need to be careful\n",
    "\n",
    "# Another way to get all of the things from a SELECT is to use the .fetchall() method\n",
    "# which will return a Python list of matching items, stored as tuples\n",
    "\n",
    "cur.execute('SELECT * FROM customers WHERE age = 33')\n",
    "print(cur.fetchall())"
   ]
  },
  {
   "cell_type": "code",
   "execution_count": null,
   "metadata": {},
   "outputs": [],
   "source": [
    "# We can do other equality tests as well, not just the '='\n",
    "\n",
    "for row in cur.execute('SELECT email, age FROM customers WHERE age > 34'):\n",
    "    print(row)"
   ]
  },
  {
   "cell_type": "code",
   "execution_count": null,
   "metadata": {},
   "outputs": [],
   "source": [
    "# We can have our data ordered in alphanumerical order when we get it by using the ORDER BY keyword\n",
    "\n",
    "for row in cur.execute('''SELECT * FROM customers\n",
    "                          WHERE age > 34 ORDER BY age'''):\n",
    "    print(row)"
   ]
  },
  {
   "cell_type": "code",
   "execution_count": null,
   "metadata": {},
   "outputs": [],
   "source": [
    "# Having it in reverse is just as easy by simply putting DESC after the order parameter\n",
    "\n",
    "for a, e in cur.execute('''SELECT age, email \n",
    "                           FROM customers \n",
    "                           WHERE age > 34 \n",
    "                           ORDER BY age DESC'''):\n",
    "    print(a, e)"
   ]
  },
  {
   "cell_type": "code",
   "execution_count": null,
   "metadata": {},
   "outputs": [],
   "source": [
    "# If we want to update certain records we can do that using the UPDATE command and the SET command\n",
    "# We can use the LIKE keyword to find things that are similar and use the % sign as a wildcard\n",
    "\n",
    "cur.execute(\"\"\"UPDATE customers \n",
    "               SET email='bgordon@gotham.com' \n",
    "               WHERE email LIKE 'bgordon%'\n",
    "               \"\"\")\n",
    "\n",
    "print(cur.execute('SELECT * FROM customers WHERE age = 33').fetchall())"
   ]
  },
  {
   "cell_type": "code",
   "execution_count": null,
   "metadata": {},
   "outputs": [],
   "source": [
    "# We can also uniquify our results using the DISTINCT keyword\n",
    "\n",
    "for row in cur.execute('SELECT DISTINCT age FROM customers'):\n",
    "    print(row)"
   ]
  },
  {
   "cell_type": "code",
   "execution_count": null,
   "metadata": {},
   "outputs": [],
   "source": [
    "# TODO: descriptions for all of these\n",
    "\n",
    "for row in cur.execute('''SELECT age, COUNT(age) AS count_col\n",
    "                          FROM customers GROUP BY age'''):\n",
    "    print(row)"
   ]
  },
  {
   "cell_type": "code",
   "execution_count": null,
   "metadata": {},
   "outputs": [],
   "source": [
    "for row in cur.execute('''SELECT first_name, SUM(age) AS total\n",
    "                          FROM customers GROUP BY age'''):\n",
    "    print(row)"
   ]
  },
  {
   "cell_type": "code",
   "execution_count": null,
   "metadata": {},
   "outputs": [],
   "source": [
    "for row in cur.execute('''SELECT email, COUNT(age) AS count\n",
    "                          FROM customers\n",
    "                          GROUP BY age\n",
    "                          HAVING age > 34'''):\n",
    "    print(row)"
   ]
  },
  {
   "cell_type": "code",
   "execution_count": null,
   "metadata": {},
   "outputs": [],
   "source": [
    "for row in cur.execute('''SELECT age, COUNT(age) AS count\n",
    "                          FROM customers\n",
    "                          GROUP BY age LIMIT 2'''):\n",
    "    print(row)"
   ]
  },
  {
   "cell_type": "code",
   "execution_count": null,
   "metadata": {},
   "outputs": [],
   "source": [
    "cur.execute(\"DELETE FROM customers WHERE first_name='Hal'\")\n",
    "\n",
    "for row in cur.execute('SELECT * FROM customers'):\n",
    "    print(row)"
   ]
  },
  {
   "cell_type": "code",
   "execution_count": null,
   "metadata": {
    "collapsed": true
   },
   "outputs": [],
   "source": [
    "conn.close()"
   ]
  },
  {
   "cell_type": "markdown",
   "metadata": {},
   "source": [
    "# Experience Points!\n",
    "---"
   ]
  },
  {
   "cell_type": "markdown",
   "metadata": {},
   "source": [
    "In your **text editor** create a simple script called:\n",
    "\n",
    "```bash\n",
    "my_sql_02.py```\n",
    "\n",
    "Execute your script in the **IPython interpreter** using the command:\n",
    "\n",
    "```python\n",
    "run my_sql_02.py```\n",
    "\n",
    "I suggest that as you add each feature to your script that you run it right away to test it incrementally. \n",
    "\n",
    "1. Create a connection to a database. Call the database: `my_second_sql.db`\n",
    "1. Create a table called stocks: include only the following columns AND assign the given datatypes:\n",
    "\n",
    "|||\n",
    "|:---|:---|\n",
    "|symbol|text|\n",
    "|date|date|\n",
    "|open_price|float|\n",
    "|close|float|\n",
    "|volume|integer|\n",
    "\n",
    "Populate the data:\n",
    "1. Create a filehandle for the file `AMEX_daily_prices_N.csv`\n",
    "1. Create a SQL statement that will allow you to insert content from the csv into stocks\n",
    "1. For every line in the csv, execute your insert SQL statement\n",
    "\n",
    "Retrieve the data:\n",
    "1. Create a cursor\n",
    "1. Create a SQL statement to query the database for\n",
    "    * only the symbol, open_price, and close columns\n",
    "    * from the stocks table \n",
    "    * where the closing value is greater than 925\n",
    "1. For every row of returned results, print that row"
   ]
  },
  {
   "cell_type": "markdown",
   "metadata": {
    "collapsed": true
   },
   "source": [
    "When you complete this exercise, please put your green post-it on your monitor. \n",
    "\n",
    "If you want to continue on at your own-pace, please feel free to do so.\n",
    "\n",
    "<img src='../images/green_sticky.300px.png' width='200' style='float:left'>"
   ]
  },
  {
   "cell_type": "code",
   "execution_count": null,
   "metadata": {
    "collapsed": true
   },
   "outputs": [],
   "source": []
  }
 ],
 "metadata": {
  "celltoolbar": "Slideshow",
  "kernelspec": {
   "display_name": "Python 3",
   "language": "python",
   "name": "python3"
  },
  "language_info": {
   "codemirror_mode": {
    "name": "ipython",
    "version": 3
   },
   "file_extension": ".py",
   "mimetype": "text/x-python",
   "name": "python",
   "nbconvert_exporter": "python",
   "pygments_lexer": "ipython3",
   "version": "3.6.1"
  }
 },
 "nbformat": 4,
 "nbformat_minor": 2
}
